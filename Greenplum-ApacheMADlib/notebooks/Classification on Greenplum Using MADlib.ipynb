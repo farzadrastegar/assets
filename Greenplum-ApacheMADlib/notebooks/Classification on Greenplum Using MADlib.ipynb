{
 "cells": [
  {
   "cell_type": "markdown",
   "metadata": {
    "slideshow": {
     "slide_type": "slide"
    }
   },
   "source": [
    "# Classification on Greenplum Using MADlib"
   ]
  },
  {
   "cell_type": "markdown",
   "metadata": {
    "slideshow": {
     "slide_type": "slide"
    }
   },
   "source": [
    "## Preliminaries & connection to Greenplum"
   ]
  },
  {
   "cell_type": "markdown",
   "metadata": {
    "slideshow": {
     "slide_type": "slide"
    }
   },
   "source": [
    "A docker image or VM of Greenplum are availble online for download.  We provide links accompanying this material with some options. \n",
    "\n",
    "To allow us to write SQL nicely in Jupyter Notebooks, we will load the SQL magic extension\n",
    "\n",
    "Install the sql magic extension if you haven't yet by running 'pip install ipython-sql' prior to loading the extension.  Details on the sql magic extension can be found here: https://github.com/catherinedevlin/ipython-sql.\n",
    "\n",
    "A huge thanks to Hongdon Lee from the VMware Tanzu Data Science team for building this training material."
   ]
  },
  {
   "cell_type": "code",
   "execution_count": 192,
   "metadata": {},
   "outputs": [
    {
     "name": "stdout",
     "output_type": "stream",
     "text": [
      "The sql extension is already loaded. To reload it, use:\n",
      "  %reload_ext sql\n"
     ]
    }
   ],
   "source": [
    "%load_ext sql"
   ]
  },
  {
   "cell_type": "markdown",
   "metadata": {},
   "source": [
    "We'll now go ahead and connect to a Greenplum environment from our notebook.  Please note that your ip address, database name, and port may be different from my local demo environment."
   ]
  },
  {
   "cell_type": "code",
   "execution_count": 193,
   "metadata": {},
   "outputs": [
    {
     "data": {
      "text/plain": [
       "'Connected: gpadmin@demo'"
      ]
     },
     "execution_count": 193,
     "metadata": {},
     "output_type": "execute_result"
    }
   ],
   "source": [
    "%%sql \n",
    "postgresql://gpadmin@192.168.115.128:5432/demo"
   ]
  },
  {
   "cell_type": "markdown",
   "metadata": {},
   "source": [
    "To keep things tidy, we will store all of the tables and artifacts in this module in a schema named 'classification_madlib'.  "
   ]
  },
  {
   "cell_type": "code",
   "execution_count": null,
   "metadata": {},
   "outputs": [],
   "source": [
    "%%sql\n",
    "create schema classification_madlib;"
   ]
  },
  {
   "cell_type": "markdown",
   "metadata": {},
   "source": [
    "Also, so that we don't have to keep typing 'classification_madlib.' when referencing objects, we will set the search_path to this schema for convenience."
   ]
  },
  {
   "cell_type": "code",
   "execution_count": 194,
   "metadata": {},
   "outputs": [
    {
     "name": "stdout",
     "output_type": "stream",
     "text": [
      " * postgresql://gpadmin@192.168.115.128:5432/demo\n",
      "Done.\n"
     ]
    },
    {
     "data": {
      "text/plain": [
       "[]"
      ]
     },
     "execution_count": 194,
     "metadata": {},
     "output_type": "execute_result"
    }
   ],
   "source": [
    "%%sql\n",
    "set search_path to classification_madlib;"
   ]
  },
  {
   "cell_type": "markdown",
   "metadata": {},
   "source": [
    "Let's load the data which we will be using for this module into Greenplum.  There are various ways of doing this, and here, we will make use of Greenplum's external tables functionality to load in a dataset containing information about abalone into the environment.  We will then materialize the external table locally for convenience.  "
   ]
  },
  {
   "cell_type": "code",
   "execution_count": 195,
   "metadata": {},
   "outputs": [
    {
     "name": "stdout",
     "output_type": "stream",
     "text": [
      " * postgresql://gpadmin@192.168.115.128:5432/demo\n",
      "Done.\n",
      "Done.\n"
     ]
    },
    {
     "data": {
      "text/plain": [
       "[]"
      ]
     },
     "execution_count": 195,
     "metadata": {},
     "output_type": "execute_result"
    }
   ],
   "source": [
    "%%sql\n",
    "drop external table if exists abalone_ext;\n",
    "create external web table abalone_ext \n",
    "(\n",
    "    sex text\n",
    "    , length float8\n",
    "    , diameter float8\n",
    "    , height float8\n",
    "    , whole_weight float8\n",
    "    , shucked_weight float8\n",
    "    , viscera_weight float8\n",
    "    , shell_weight float8\n",
    "    , rings float8\n",
    ") \n",
    "location ('http://archive.ics.uci.edu/ml/machine-learning-databases/abalone/abalone.data') \n",
    "format 'csv' \n",
    "(NULL AS '?')\n",
    ";"
   ]
  },
  {
   "cell_type": "markdown",
   "metadata": {},
   "source": [
    "Let's take a look at the number of records"
   ]
  },
  {
   "cell_type": "code",
   "execution_count": 196,
   "metadata": {},
   "outputs": [
    {
     "name": "stdout",
     "output_type": "stream",
     "text": [
      " * postgresql://gpadmin@192.168.115.128:5432/demo\n",
      "1 rows affected.\n"
     ]
    },
    {
     "data": {
      "text/html": [
       "<table>\n",
       "    <tr>\n",
       "        <th>count</th>\n",
       "    </tr>\n",
       "    <tr>\n",
       "        <td>4177</td>\n",
       "    </tr>\n",
       "</table>"
      ],
      "text/plain": [
       "[(4177,)]"
      ]
     },
     "execution_count": 196,
     "metadata": {},
     "output_type": "execute_result"
    }
   ],
   "source": [
    "%%sql\n",
    "select count(*) from abalone_ext;"
   ]
  },
  {
   "cell_type": "markdown",
   "metadata": {},
   "source": [
    "Let's also take a look at 10 random rows from the table"
   ]
  },
  {
   "cell_type": "code",
   "execution_count": 197,
   "metadata": {},
   "outputs": [
    {
     "name": "stdout",
     "output_type": "stream",
     "text": [
      " * postgresql://gpadmin@192.168.115.128:5432/demo\n",
      "10 rows affected.\n"
     ]
    },
    {
     "data": {
      "text/html": [
       "<table>\n",
       "    <tr>\n",
       "        <th>sex</th>\n",
       "        <th>length</th>\n",
       "        <th>diameter</th>\n",
       "        <th>height</th>\n",
       "        <th>whole_weight</th>\n",
       "        <th>shucked_weight</th>\n",
       "        <th>viscera_weight</th>\n",
       "        <th>shell_weight</th>\n",
       "        <th>rings</th>\n",
       "    </tr>\n",
       "    <tr>\n",
       "        <td>M</td>\n",
       "        <td>0.455</td>\n",
       "        <td>0.365</td>\n",
       "        <td>0.095</td>\n",
       "        <td>0.514</td>\n",
       "        <td>0.2245</td>\n",
       "        <td>0.101</td>\n",
       "        <td>0.15</td>\n",
       "        <td>15.0</td>\n",
       "    </tr>\n",
       "    <tr>\n",
       "        <td>M</td>\n",
       "        <td>0.35</td>\n",
       "        <td>0.265</td>\n",
       "        <td>0.09</td>\n",
       "        <td>0.2255</td>\n",
       "        <td>0.0995</td>\n",
       "        <td>0.0485</td>\n",
       "        <td>0.07</td>\n",
       "        <td>7.0</td>\n",
       "    </tr>\n",
       "    <tr>\n",
       "        <td>F</td>\n",
       "        <td>0.53</td>\n",
       "        <td>0.42</td>\n",
       "        <td>0.135</td>\n",
       "        <td>0.677</td>\n",
       "        <td>0.2565</td>\n",
       "        <td>0.1415</td>\n",
       "        <td>0.21</td>\n",
       "        <td>9.0</td>\n",
       "    </tr>\n",
       "    <tr>\n",
       "        <td>M</td>\n",
       "        <td>0.44</td>\n",
       "        <td>0.365</td>\n",
       "        <td>0.125</td>\n",
       "        <td>0.516</td>\n",
       "        <td>0.2155</td>\n",
       "        <td>0.114</td>\n",
       "        <td>0.155</td>\n",
       "        <td>10.0</td>\n",
       "    </tr>\n",
       "    <tr>\n",
       "        <td>I</td>\n",
       "        <td>0.33</td>\n",
       "        <td>0.255</td>\n",
       "        <td>0.08</td>\n",
       "        <td>0.205</td>\n",
       "        <td>0.0895</td>\n",
       "        <td>0.0395</td>\n",
       "        <td>0.055</td>\n",
       "        <td>7.0</td>\n",
       "    </tr>\n",
       "    <tr>\n",
       "        <td>I</td>\n",
       "        <td>0.425</td>\n",
       "        <td>0.3</td>\n",
       "        <td>0.095</td>\n",
       "        <td>0.3515</td>\n",
       "        <td>0.141</td>\n",
       "        <td>0.0775</td>\n",
       "        <td>0.12</td>\n",
       "        <td>8.0</td>\n",
       "    </tr>\n",
       "    <tr>\n",
       "        <td>F</td>\n",
       "        <td>0.53</td>\n",
       "        <td>0.415</td>\n",
       "        <td>0.15</td>\n",
       "        <td>0.7775</td>\n",
       "        <td>0.237</td>\n",
       "        <td>0.1415</td>\n",
       "        <td>0.33</td>\n",
       "        <td>20.0</td>\n",
       "    </tr>\n",
       "    <tr>\n",
       "        <td>F</td>\n",
       "        <td>0.545</td>\n",
       "        <td>0.425</td>\n",
       "        <td>0.125</td>\n",
       "        <td>0.768</td>\n",
       "        <td>0.294</td>\n",
       "        <td>0.1495</td>\n",
       "        <td>0.26</td>\n",
       "        <td>16.0</td>\n",
       "    </tr>\n",
       "    <tr>\n",
       "        <td>M</td>\n",
       "        <td>0.475</td>\n",
       "        <td>0.37</td>\n",
       "        <td>0.125</td>\n",
       "        <td>0.5095</td>\n",
       "        <td>0.2165</td>\n",
       "        <td>0.1125</td>\n",
       "        <td>0.165</td>\n",
       "        <td>9.0</td>\n",
       "    </tr>\n",
       "    <tr>\n",
       "        <td>F</td>\n",
       "        <td>0.55</td>\n",
       "        <td>0.44</td>\n",
       "        <td>0.15</td>\n",
       "        <td>0.8945</td>\n",
       "        <td>0.3145</td>\n",
       "        <td>0.151</td>\n",
       "        <td>0.32</td>\n",
       "        <td>19.0</td>\n",
       "    </tr>\n",
       "</table>"
      ],
      "text/plain": [
       "[('M', 0.455, 0.365, 0.095, 0.514, 0.2245, 0.101, 0.15, 15.0),\n",
       " ('M', 0.35, 0.265, 0.09, 0.2255, 0.0995, 0.0485, 0.07, 7.0),\n",
       " ('F', 0.53, 0.42, 0.135, 0.677, 0.2565, 0.1415, 0.21, 9.0),\n",
       " ('M', 0.44, 0.365, 0.125, 0.516, 0.2155, 0.114, 0.155, 10.0),\n",
       " ('I', 0.33, 0.255, 0.08, 0.205, 0.0895, 0.0395, 0.055, 7.0),\n",
       " ('I', 0.425, 0.3, 0.095, 0.3515, 0.141, 0.0775, 0.12, 8.0),\n",
       " ('F', 0.53, 0.415, 0.15, 0.7775, 0.237, 0.1415, 0.33, 20.0),\n",
       " ('F', 0.545, 0.425, 0.125, 0.768, 0.294, 0.1495, 0.26, 16.0),\n",
       " ('M', 0.475, 0.37, 0.125, 0.5095, 0.2165, 0.1125, 0.165, 9.0),\n",
       " ('F', 0.55, 0.44, 0.15, 0.8945, 0.3145, 0.151, 0.32, 19.0)]"
      ]
     },
     "execution_count": 197,
     "metadata": {},
     "output_type": "execute_result"
    }
   ],
   "source": [
    "%%sql\n",
    "select * from abalone_ext limit 10;"
   ]
  },
  {
   "cell_type": "markdown",
   "metadata": {},
   "source": [
    "We'll also materialize the table locally for convenience, and add in a column for ID in the process."
   ]
  },
  {
   "cell_type": "code",
   "execution_count": 198,
   "metadata": {},
   "outputs": [
    {
     "name": "stdout",
     "output_type": "stream",
     "text": [
      " * postgresql://gpadmin@192.168.115.128:5432/demo\n",
      "Done.\n",
      "4177 rows affected.\n"
     ]
    },
    {
     "data": {
      "text/plain": [
       "[]"
      ]
     },
     "execution_count": 198,
     "metadata": {},
     "output_type": "execute_result"
    }
   ],
   "source": [
    "%%sql\n",
    "drop table if exists abalone;\n",
    "create table abalone as \n",
    "select\n",
    "row_number() over() as id \n",
    ", * \n",
    "from abalone_ext;"
   ]
  },
  {
   "cell_type": "markdown",
   "metadata": {},
   "source": [
    "It looks like we have successfully materialized the table:"
   ]
  },
  {
   "cell_type": "code",
   "execution_count": 199,
   "metadata": {},
   "outputs": [
    {
     "name": "stdout",
     "output_type": "stream",
     "text": [
      " * postgresql://gpadmin@192.168.115.128:5432/demo\n",
      "1 rows affected.\n"
     ]
    },
    {
     "data": {
      "text/html": [
       "<table>\n",
       "    <tr>\n",
       "        <th>count</th>\n",
       "    </tr>\n",
       "    <tr>\n",
       "        <td>4177</td>\n",
       "    </tr>\n",
       "</table>"
      ],
      "text/plain": [
       "[(4177,)]"
      ]
     },
     "execution_count": 199,
     "metadata": {},
     "output_type": "execute_result"
    }
   ],
   "source": [
    "%%sql\n",
    "select count(*) from abalone;"
   ]
  },
  {
   "cell_type": "code",
   "execution_count": 201,
   "metadata": {},
   "outputs": [
    {
     "name": "stdout",
     "output_type": "stream",
     "text": [
      " * postgresql://gpadmin@192.168.115.128:5432/demo\n",
      "10 rows affected.\n"
     ]
    },
    {
     "data": {
      "text/html": [
       "<table>\n",
       "    <tr>\n",
       "        <th>id</th>\n",
       "        <th>sex</th>\n",
       "        <th>length</th>\n",
       "        <th>diameter</th>\n",
       "        <th>height</th>\n",
       "        <th>whole_weight</th>\n",
       "        <th>shucked_weight</th>\n",
       "        <th>viscera_weight</th>\n",
       "        <th>shell_weight</th>\n",
       "        <th>rings</th>\n",
       "    </tr>\n",
       "    <tr>\n",
       "        <td>1</td>\n",
       "        <td>M</td>\n",
       "        <td>0.455</td>\n",
       "        <td>0.365</td>\n",
       "        <td>0.095</td>\n",
       "        <td>0.514</td>\n",
       "        <td>0.2245</td>\n",
       "        <td>0.101</td>\n",
       "        <td>0.15</td>\n",
       "        <td>15.0</td>\n",
       "    </tr>\n",
       "    <tr>\n",
       "        <td>2</td>\n",
       "        <td>M</td>\n",
       "        <td>0.35</td>\n",
       "        <td>0.265</td>\n",
       "        <td>0.09</td>\n",
       "        <td>0.2255</td>\n",
       "        <td>0.0995</td>\n",
       "        <td>0.0485</td>\n",
       "        <td>0.07</td>\n",
       "        <td>7.0</td>\n",
       "    </tr>\n",
       "    <tr>\n",
       "        <td>3</td>\n",
       "        <td>F</td>\n",
       "        <td>0.53</td>\n",
       "        <td>0.42</td>\n",
       "        <td>0.135</td>\n",
       "        <td>0.677</td>\n",
       "        <td>0.2565</td>\n",
       "        <td>0.1415</td>\n",
       "        <td>0.21</td>\n",
       "        <td>9.0</td>\n",
       "    </tr>\n",
       "    <tr>\n",
       "        <td>4</td>\n",
       "        <td>M</td>\n",
       "        <td>0.44</td>\n",
       "        <td>0.365</td>\n",
       "        <td>0.125</td>\n",
       "        <td>0.516</td>\n",
       "        <td>0.2155</td>\n",
       "        <td>0.114</td>\n",
       "        <td>0.155</td>\n",
       "        <td>10.0</td>\n",
       "    </tr>\n",
       "    <tr>\n",
       "        <td>5</td>\n",
       "        <td>I</td>\n",
       "        <td>0.33</td>\n",
       "        <td>0.255</td>\n",
       "        <td>0.08</td>\n",
       "        <td>0.205</td>\n",
       "        <td>0.0895</td>\n",
       "        <td>0.0395</td>\n",
       "        <td>0.055</td>\n",
       "        <td>7.0</td>\n",
       "    </tr>\n",
       "    <tr>\n",
       "        <td>6</td>\n",
       "        <td>I</td>\n",
       "        <td>0.425</td>\n",
       "        <td>0.3</td>\n",
       "        <td>0.095</td>\n",
       "        <td>0.3515</td>\n",
       "        <td>0.141</td>\n",
       "        <td>0.0775</td>\n",
       "        <td>0.12</td>\n",
       "        <td>8.0</td>\n",
       "    </tr>\n",
       "    <tr>\n",
       "        <td>7</td>\n",
       "        <td>F</td>\n",
       "        <td>0.53</td>\n",
       "        <td>0.415</td>\n",
       "        <td>0.15</td>\n",
       "        <td>0.7775</td>\n",
       "        <td>0.237</td>\n",
       "        <td>0.1415</td>\n",
       "        <td>0.33</td>\n",
       "        <td>20.0</td>\n",
       "    </tr>\n",
       "    <tr>\n",
       "        <td>8</td>\n",
       "        <td>F</td>\n",
       "        <td>0.545</td>\n",
       "        <td>0.425</td>\n",
       "        <td>0.125</td>\n",
       "        <td>0.768</td>\n",
       "        <td>0.294</td>\n",
       "        <td>0.1495</td>\n",
       "        <td>0.26</td>\n",
       "        <td>16.0</td>\n",
       "    </tr>\n",
       "    <tr>\n",
       "        <td>9</td>\n",
       "        <td>M</td>\n",
       "        <td>0.475</td>\n",
       "        <td>0.37</td>\n",
       "        <td>0.125</td>\n",
       "        <td>0.5095</td>\n",
       "        <td>0.2165</td>\n",
       "        <td>0.1125</td>\n",
       "        <td>0.165</td>\n",
       "        <td>9.0</td>\n",
       "    </tr>\n",
       "    <tr>\n",
       "        <td>10</td>\n",
       "        <td>F</td>\n",
       "        <td>0.55</td>\n",
       "        <td>0.44</td>\n",
       "        <td>0.15</td>\n",
       "        <td>0.8945</td>\n",
       "        <td>0.3145</td>\n",
       "        <td>0.151</td>\n",
       "        <td>0.32</td>\n",
       "        <td>19.0</td>\n",
       "    </tr>\n",
       "</table>"
      ],
      "text/plain": [
       "[(1, 'M', 0.455, 0.365, 0.095, 0.514, 0.2245, 0.101, 0.15, 15.0),\n",
       " (2, 'M', 0.35, 0.265, 0.09, 0.2255, 0.0995, 0.0485, 0.07, 7.0),\n",
       " (3, 'F', 0.53, 0.42, 0.135, 0.677, 0.2565, 0.1415, 0.21, 9.0),\n",
       " (4, 'M', 0.44, 0.365, 0.125, 0.516, 0.2155, 0.114, 0.155, 10.0),\n",
       " (5, 'I', 0.33, 0.255, 0.08, 0.205, 0.0895, 0.0395, 0.055, 7.0),\n",
       " (6, 'I', 0.425, 0.3, 0.095, 0.3515, 0.141, 0.0775, 0.12, 8.0),\n",
       " (7, 'F', 0.53, 0.415, 0.15, 0.7775, 0.237, 0.1415, 0.33, 20.0),\n",
       " (8, 'F', 0.545, 0.425, 0.125, 0.768, 0.294, 0.1495, 0.26, 16.0),\n",
       " (9, 'M', 0.475, 0.37, 0.125, 0.5095, 0.2165, 0.1125, 0.165, 9.0),\n",
       " (10, 'F', 0.55, 0.44, 0.15, 0.8945, 0.3145, 0.151, 0.32, 19.0)]"
      ]
     },
     "execution_count": 201,
     "metadata": {},
     "output_type": "execute_result"
    }
   ],
   "source": [
    "%%sql\n",
    "select * from abalone order by id limit 10;"
   ]
  },
  {
   "cell_type": "markdown",
   "metadata": {},
   "source": [
    "## Data Exploration & Feature Engineering: Creating Our Response Variable"
   ]
  },
  {
   "attachments": {},
   "cell_type": "markdown",
   "metadata": {},
   "source": [
    "Our goal is to predict whether or not a given abalone is mature, based on using the number of rings in the abalone's shell as a proxy.  \n",
    "\n",
    "We have a column named rings which contains this information in the table.  To approximate the abalone's age, we will set age = # rings + 1.5.\n",
    "\n",
    "Let's also assume that a 'mature' abalone is one that is at least 10 years of age, based on our approximation above. \n",
    "We will use this column to create a 1/0 or binary column to represent maturity.  We do this using a 'case when' statement.  \n",
    "\n",
    "For simplicity, we'll also keep only sex, diameter and shucked_weight in the table."
   ]
  },
  {
   "cell_type": "code",
   "execution_count": 202,
   "metadata": {},
   "outputs": [
    {
     "name": "stdout",
     "output_type": "stream",
     "text": [
      " * postgresql://gpadmin@192.168.115.128:5432/demo\n",
      "10 rows affected.\n"
     ]
    },
    {
     "data": {
      "text/html": [
       "<table>\n",
       "    <tr>\n",
       "        <th>id</th>\n",
       "        <th>sex</th>\n",
       "        <th>length</th>\n",
       "        <th>diameter</th>\n",
       "        <th>height</th>\n",
       "        <th>whole_weight</th>\n",
       "        <th>shucked_weight</th>\n",
       "        <th>viscera_weight</th>\n",
       "        <th>shell_weight</th>\n",
       "        <th>rings</th>\n",
       "    </tr>\n",
       "    <tr>\n",
       "        <td>1</td>\n",
       "        <td>M</td>\n",
       "        <td>0.455</td>\n",
       "        <td>0.365</td>\n",
       "        <td>0.095</td>\n",
       "        <td>0.514</td>\n",
       "        <td>0.2245</td>\n",
       "        <td>0.101</td>\n",
       "        <td>0.15</td>\n",
       "        <td>15.0</td>\n",
       "    </tr>\n",
       "    <tr>\n",
       "        <td>3</td>\n",
       "        <td>F</td>\n",
       "        <td>0.53</td>\n",
       "        <td>0.42</td>\n",
       "        <td>0.135</td>\n",
       "        <td>0.677</td>\n",
       "        <td>0.2565</td>\n",
       "        <td>0.1415</td>\n",
       "        <td>0.21</td>\n",
       "        <td>9.0</td>\n",
       "    </tr>\n",
       "    <tr>\n",
       "        <td>5</td>\n",
       "        <td>I</td>\n",
       "        <td>0.33</td>\n",
       "        <td>0.255</td>\n",
       "        <td>0.08</td>\n",
       "        <td>0.205</td>\n",
       "        <td>0.0895</td>\n",
       "        <td>0.0395</td>\n",
       "        <td>0.055</td>\n",
       "        <td>7.0</td>\n",
       "    </tr>\n",
       "    <tr>\n",
       "        <td>7</td>\n",
       "        <td>F</td>\n",
       "        <td>0.53</td>\n",
       "        <td>0.415</td>\n",
       "        <td>0.15</td>\n",
       "        <td>0.7775</td>\n",
       "        <td>0.237</td>\n",
       "        <td>0.1415</td>\n",
       "        <td>0.33</td>\n",
       "        <td>20.0</td>\n",
       "    </tr>\n",
       "    <tr>\n",
       "        <td>9</td>\n",
       "        <td>M</td>\n",
       "        <td>0.475</td>\n",
       "        <td>0.37</td>\n",
       "        <td>0.125</td>\n",
       "        <td>0.5095</td>\n",
       "        <td>0.2165</td>\n",
       "        <td>0.1125</td>\n",
       "        <td>0.165</td>\n",
       "        <td>9.0</td>\n",
       "    </tr>\n",
       "    <tr>\n",
       "        <td>11</td>\n",
       "        <td>F</td>\n",
       "        <td>0.525</td>\n",
       "        <td>0.38</td>\n",
       "        <td>0.14</td>\n",
       "        <td>0.6065</td>\n",
       "        <td>0.194</td>\n",
       "        <td>0.1475</td>\n",
       "        <td>0.21</td>\n",
       "        <td>14.0</td>\n",
       "    </tr>\n",
       "    <tr>\n",
       "        <td>13</td>\n",
       "        <td>M</td>\n",
       "        <td>0.49</td>\n",
       "        <td>0.38</td>\n",
       "        <td>0.135</td>\n",
       "        <td>0.5415</td>\n",
       "        <td>0.2175</td>\n",
       "        <td>0.095</td>\n",
       "        <td>0.19</td>\n",
       "        <td>11.0</td>\n",
       "    </tr>\n",
       "    <tr>\n",
       "        <td>15</td>\n",
       "        <td>F</td>\n",
       "        <td>0.47</td>\n",
       "        <td>0.355</td>\n",
       "        <td>0.1</td>\n",
       "        <td>0.4755</td>\n",
       "        <td>0.1675</td>\n",
       "        <td>0.0805</td>\n",
       "        <td>0.185</td>\n",
       "        <td>10.0</td>\n",
       "    </tr>\n",
       "    <tr>\n",
       "        <td>17</td>\n",
       "        <td>I</td>\n",
       "        <td>0.355</td>\n",
       "        <td>0.28</td>\n",
       "        <td>0.085</td>\n",
       "        <td>0.2905</td>\n",
       "        <td>0.095</td>\n",
       "        <td>0.0395</td>\n",
       "        <td>0.115</td>\n",
       "        <td>7.0</td>\n",
       "    </tr>\n",
       "    <tr>\n",
       "        <td>19</td>\n",
       "        <td>M</td>\n",
       "        <td>0.365</td>\n",
       "        <td>0.295</td>\n",
       "        <td>0.08</td>\n",
       "        <td>0.2555</td>\n",
       "        <td>0.097</td>\n",
       "        <td>0.043</td>\n",
       "        <td>0.1</td>\n",
       "        <td>7.0</td>\n",
       "    </tr>\n",
       "</table>"
      ],
      "text/plain": [
       "[(1, 'M', 0.455, 0.365, 0.095, 0.514, 0.2245, 0.101, 0.15, 15.0),\n",
       " (3, 'F', 0.53, 0.42, 0.135, 0.677, 0.2565, 0.1415, 0.21, 9.0),\n",
       " (5, 'I', 0.33, 0.255, 0.08, 0.205, 0.0895, 0.0395, 0.055, 7.0),\n",
       " (7, 'F', 0.53, 0.415, 0.15, 0.7775, 0.237, 0.1415, 0.33, 20.0),\n",
       " (9, 'M', 0.475, 0.37, 0.125, 0.5095, 0.2165, 0.1125, 0.165, 9.0),\n",
       " (11, 'F', 0.525, 0.38, 0.14, 0.6065, 0.194, 0.1475, 0.21, 14.0),\n",
       " (13, 'M', 0.49, 0.38, 0.135, 0.5415, 0.2175, 0.095, 0.19, 11.0),\n",
       " (15, 'F', 0.47, 0.355, 0.1, 0.4755, 0.1675, 0.0805, 0.185, 10.0),\n",
       " (17, 'I', 0.355, 0.28, 0.085, 0.2905, 0.095, 0.0395, 0.115, 7.0),\n",
       " (19, 'M', 0.365, 0.295, 0.08, 0.2555, 0.097, 0.043, 0.1, 7.0)]"
      ]
     },
     "execution_count": 202,
     "metadata": {},
     "output_type": "execute_result"
    }
   ],
   "source": [
    "%%sql\n",
    "select * from abalone limit 10;"
   ]
  },
  {
   "cell_type": "code",
   "execution_count": 203,
   "metadata": {},
   "outputs": [
    {
     "name": "stdout",
     "output_type": "stream",
     "text": [
      " * postgresql://gpadmin@192.168.115.128:5432/demo\n",
      "Done.\n",
      "4177 rows affected.\n"
     ]
    },
    {
     "data": {
      "text/plain": [
       "[]"
      ]
     },
     "execution_count": 203,
     "metadata": {},
     "output_type": "execute_result"
    }
   ],
   "source": [
    "%%sql\n",
    "drop table if exists abalone_v2;\n",
    "create table abalone_v2 as select \n",
    "id\n",
    ", LOWER(sex) as sex  \n",
    ", diameter\n",
    ", shucked_weight\n",
    ", rings \n",
    ", case when (rings + 1.5) >= 10 then 1 else 0 end as mature \n",
    "from abalone \n",
    ";"
   ]
  },
  {
   "cell_type": "markdown",
   "metadata": {},
   "source": [
    "We see that a column named 'mature' is created where it is equal to '1' when rings + 1.5 is greater or equal to 10 and '0' otherwise."
   ]
  },
  {
   "cell_type": "code",
   "execution_count": 204,
   "metadata": {},
   "outputs": [
    {
     "name": "stdout",
     "output_type": "stream",
     "text": [
      " * postgresql://gpadmin@192.168.115.128:5432/demo\n",
      "10 rows affected.\n"
     ]
    },
    {
     "data": {
      "text/html": [
       "<table>\n",
       "    <tr>\n",
       "        <th>id</th>\n",
       "        <th>sex</th>\n",
       "        <th>diameter</th>\n",
       "        <th>shucked_weight</th>\n",
       "        <th>rings</th>\n",
       "        <th>mature</th>\n",
       "    </tr>\n",
       "    <tr>\n",
       "        <td>2</td>\n",
       "        <td>m</td>\n",
       "        <td>0.265</td>\n",
       "        <td>0.0995</td>\n",
       "        <td>7.0</td>\n",
       "        <td>0</td>\n",
       "    </tr>\n",
       "    <tr>\n",
       "        <td>4</td>\n",
       "        <td>m</td>\n",
       "        <td>0.365</td>\n",
       "        <td>0.2155</td>\n",
       "        <td>10.0</td>\n",
       "        <td>1</td>\n",
       "    </tr>\n",
       "    <tr>\n",
       "        <td>6</td>\n",
       "        <td>i</td>\n",
       "        <td>0.3</td>\n",
       "        <td>0.141</td>\n",
       "        <td>8.0</td>\n",
       "        <td>0</td>\n",
       "    </tr>\n",
       "    <tr>\n",
       "        <td>8</td>\n",
       "        <td>f</td>\n",
       "        <td>0.425</td>\n",
       "        <td>0.294</td>\n",
       "        <td>16.0</td>\n",
       "        <td>1</td>\n",
       "    </tr>\n",
       "    <tr>\n",
       "        <td>10</td>\n",
       "        <td>f</td>\n",
       "        <td>0.44</td>\n",
       "        <td>0.3145</td>\n",
       "        <td>19.0</td>\n",
       "        <td>1</td>\n",
       "    </tr>\n",
       "    <tr>\n",
       "        <td>12</td>\n",
       "        <td>m</td>\n",
       "        <td>0.35</td>\n",
       "        <td>0.1675</td>\n",
       "        <td>10.0</td>\n",
       "        <td>1</td>\n",
       "    </tr>\n",
       "    <tr>\n",
       "        <td>14</td>\n",
       "        <td>f</td>\n",
       "        <td>0.405</td>\n",
       "        <td>0.2725</td>\n",
       "        <td>10.0</td>\n",
       "        <td>1</td>\n",
       "    </tr>\n",
       "    <tr>\n",
       "        <td>16</td>\n",
       "        <td>m</td>\n",
       "        <td>0.4</td>\n",
       "        <td>0.258</td>\n",
       "        <td>12.0</td>\n",
       "        <td>1</td>\n",
       "    </tr>\n",
       "    <tr>\n",
       "        <td>18</td>\n",
       "        <td>f</td>\n",
       "        <td>0.34</td>\n",
       "        <td>0.188</td>\n",
       "        <td>10.0</td>\n",
       "        <td>1</td>\n",
       "    </tr>\n",
       "    <tr>\n",
       "        <td>20</td>\n",
       "        <td>m</td>\n",
       "        <td>0.32</td>\n",
       "        <td>0.1705</td>\n",
       "        <td>9.0</td>\n",
       "        <td>1</td>\n",
       "    </tr>\n",
       "</table>"
      ],
      "text/plain": [
       "[(2, 'm', 0.265, 0.0995, 7.0, 0),\n",
       " (4, 'm', 0.365, 0.2155, 10.0, 1),\n",
       " (6, 'i', 0.3, 0.141, 8.0, 0),\n",
       " (8, 'f', 0.425, 0.294, 16.0, 1),\n",
       " (10, 'f', 0.44, 0.3145, 19.0, 1),\n",
       " (12, 'm', 0.35, 0.1675, 10.0, 1),\n",
       " (14, 'f', 0.405, 0.2725, 10.0, 1),\n",
       " (16, 'm', 0.4, 0.258, 12.0, 1),\n",
       " (18, 'f', 0.34, 0.188, 10.0, 1),\n",
       " (20, 'm', 0.32, 0.1705, 9.0, 1)]"
      ]
     },
     "execution_count": 204,
     "metadata": {},
     "output_type": "execute_result"
    }
   ],
   "source": [
    "%%sql \n",
    "select * from abalone_v2 limit 10;"
   ]
  },
  {
   "cell_type": "markdown",
   "metadata": {},
   "source": [
    "## Data Exploration & Feature Engineering: Computing & Reviewing Summary Statistics"
   ]
  },
  {
   "cell_type": "markdown",
   "metadata": {},
   "source": [
    "The MADlib machine learning library contains a convenient function to compute summary statistics from a table.  \n",
    "\n",
    "We supply the source table, propose a name for a table to contain the output summary statistics.\n",
    "\n",
    "We also supply the columns from the source table that we want to compute summary statistics on, namely diameter and shucked_weight.\n",
    "\n",
    "The MADlib function also provides an option to compute the summary statistics grouped by a dimension of choice.  \n",
    "\n",
    "Let's compute the summary statistics on the diameter and shucked_weight columns grouped by sex."
   ]
  },
  {
   "cell_type": "code",
   "execution_count": 205,
   "metadata": {},
   "outputs": [
    {
     "name": "stdout",
     "output_type": "stream",
     "text": [
      " * postgresql://gpadmin@192.168.115.128:5432/demo\n",
      "Done.\n",
      "1 rows affected.\n"
     ]
    },
    {
     "data": {
      "text/html": [
       "<table>\n",
       "    <tr>\n",
       "        <th>summary</th>\n",
       "    </tr>\n",
       "    <tr>\n",
       "        <td>(classification_madlib.abalone_v2_summary,8,1.00742101669)</td>\n",
       "    </tr>\n",
       "</table>"
      ],
      "text/plain": [
       "[('(classification_madlib.abalone_v2_summary,8,1.00742101669)',)]"
      ]
     },
     "execution_count": 205,
     "metadata": {},
     "output_type": "execute_result"
    }
   ],
   "source": [
    "%%sql \n",
    "-- Summary statistics calculation using MADlib\n",
    "drop table if exists abalone_v2_summary cascade;\n",
    "select madlib.summary(\n",
    "'classification_madlib.abalone_v2' \n",
    ", 'classification_madlib.abalone_v2_summary'\n",
    ", 'diameter, shucked_weight'\n",
    ", 'sex'\n",
    ");"
   ]
  },
  {
   "cell_type": "markdown",
   "metadata": {},
   "source": [
    "Let's take a look at the set of statistics that are computed by the MADlib summary statistics function.  We see that there are quite a few that it has computed."
   ]
  },
  {
   "cell_type": "code",
   "execution_count": 206,
   "metadata": {},
   "outputs": [
    {
     "name": "stdout",
     "output_type": "stream",
     "text": [
      " * postgresql://gpadmin@192.168.115.128:5432/demo\n",
      "24 rows affected.\n"
     ]
    },
    {
     "data": {
      "text/html": [
       "<table>\n",
       "    <tr>\n",
       "        <th>column_name</th>\n",
       "    </tr>\n",
       "    <tr>\n",
       "        <td>zero_values</td>\n",
       "    </tr>\n",
       "    <tr>\n",
       "        <td>negative_values</td>\n",
       "    </tr>\n",
       "    <tr>\n",
       "        <td>positive_values</td>\n",
       "    </tr>\n",
       "    <tr>\n",
       "        <td>blank_values</td>\n",
       "    </tr>\n",
       "    <tr>\n",
       "        <td>missing_values</td>\n",
       "    </tr>\n",
       "    <tr>\n",
       "        <td>distinct_values</td>\n",
       "    </tr>\n",
       "    <tr>\n",
       "        <td>row_count</td>\n",
       "    </tr>\n",
       "    <tr>\n",
       "        <td>column_number</td>\n",
       "    </tr>\n",
       "    <tr>\n",
       "        <td>data_type</td>\n",
       "    </tr>\n",
       "    <tr>\n",
       "        <td>target_column</td>\n",
       "    </tr>\n",
       "    <tr>\n",
       "        <td>group_by_value</td>\n",
       "    </tr>\n",
       "    <tr>\n",
       "        <td>group_by</td>\n",
       "    </tr>\n",
       "    <tr>\n",
       "        <td>third_quartile</td>\n",
       "    </tr>\n",
       "    <tr>\n",
       "        <td>median</td>\n",
       "    </tr>\n",
       "    <tr>\n",
       "        <td>first_quartile</td>\n",
       "    </tr>\n",
       "    <tr>\n",
       "        <td>max</td>\n",
       "    </tr>\n",
       "    <tr>\n",
       "        <td>min</td>\n",
       "    </tr>\n",
       "    <tr>\n",
       "        <td>variance</td>\n",
       "    </tr>\n",
       "    <tr>\n",
       "        <td>mean</td>\n",
       "    </tr>\n",
       "    <tr>\n",
       "        <td>fraction_blank</td>\n",
       "    </tr>\n",
       "    <tr>\n",
       "        <td>fraction_missing</td>\n",
       "    </tr>\n",
       "    <tr>\n",
       "        <td>most_frequent_values</td>\n",
       "    </tr>\n",
       "    <tr>\n",
       "        <td>mfv_frequencies</td>\n",
       "    </tr>\n",
       "    <tr>\n",
       "        <td>confidence_interval</td>\n",
       "    </tr>\n",
       "</table>"
      ],
      "text/plain": [
       "[('zero_values',),\n",
       " ('negative_values',),\n",
       " ('positive_values',),\n",
       " ('blank_values',),\n",
       " ('missing_values',),\n",
       " ('distinct_values',),\n",
       " ('row_count',),\n",
       " ('column_number',),\n",
       " ('data_type',),\n",
       " ('target_column',),\n",
       " ('group_by_value',),\n",
       " ('group_by',),\n",
       " ('third_quartile',),\n",
       " ('median',),\n",
       " ('first_quartile',),\n",
       " ('max',),\n",
       " ('min',),\n",
       " ('variance',),\n",
       " ('mean',),\n",
       " ('fraction_blank',),\n",
       " ('fraction_missing',),\n",
       " ('most_frequent_values',),\n",
       " ('mfv_frequencies',),\n",
       " ('confidence_interval',)]"
      ]
     },
     "execution_count": 206,
     "metadata": {},
     "output_type": "execute_result"
    }
   ],
   "source": [
    "%%sql \n",
    "select column_name from information_schema.columns where table_name = 'abalone_v2_summary';"
   ]
  },
  {
   "cell_type": "markdown",
   "metadata": {},
   "source": [
    "Let's take a look at a subset of these statistics, namely: row_count, missing_values, mean, std_dev, min, first_quartile, median, third_quartile, max.\n",
    "\n",
    "We see that these metrics have been computed by MADlib grouped by 'sex' and the two columns we asked MADlib to compute these metrics on, diameter and shucked_weight.\n",
    "\n",
    "Note that the function also returns aggregated statistics across all of the 'sex' values, and this is returned by the records with 'None' in the 'group_by_value' column below."
   ]
  },
  {
   "cell_type": "code",
   "execution_count": 207,
   "metadata": {},
   "outputs": [
    {
     "name": "stdout",
     "output_type": "stream",
     "text": [
      " * postgresql://gpadmin@192.168.115.128:5432/demo\n",
      "8 rows affected.\n"
     ]
    },
    {
     "data": {
      "text/html": [
       "<table>\n",
       "    <tr>\n",
       "        <th>group_by_value</th>\n",
       "        <th>target_column</th>\n",
       "        <th>row_count</th>\n",
       "        <th>missing_values</th>\n",
       "        <th>mean</th>\n",
       "        <th>std_dev</th>\n",
       "        <th>min</th>\n",
       "        <th>first_quartile</th>\n",
       "        <th>median</th>\n",
       "        <th>third_quartile</th>\n",
       "        <th>max</th>\n",
       "    </tr>\n",
       "    <tr>\n",
       "        <td>f</td>\n",
       "        <td>diameter</td>\n",
       "        <td>1307</td>\n",
       "        <td>0</td>\n",
       "        <td>0.454732211170619</td>\n",
       "        <td>0.0709542066690581</td>\n",
       "        <td>0.195</td>\n",
       "        <td>0.41</td>\n",
       "        <td>0.465</td>\n",
       "        <td>0.505</td>\n",
       "        <td>0.65</td>\n",
       "    </tr>\n",
       "    <tr>\n",
       "        <td>i</td>\n",
       "        <td>diameter</td>\n",
       "        <td>1342</td>\n",
       "        <td>0</td>\n",
       "        <td>0.326494038748137</td>\n",
       "        <td>0.0881089313434407</td>\n",
       "        <td>0.055</td>\n",
       "        <td>0.27</td>\n",
       "        <td>0.335</td>\n",
       "        <td>0.39</td>\n",
       "        <td>0.55</td>\n",
       "    </tr>\n",
       "    <tr>\n",
       "        <td>m</td>\n",
       "        <td>diameter</td>\n",
       "        <td>1528</td>\n",
       "        <td>0</td>\n",
       "        <td>0.43928664921466</td>\n",
       "        <td>0.0843980668734395</td>\n",
       "        <td>0.11</td>\n",
       "        <td>0.395</td>\n",
       "        <td>0.455</td>\n",
       "        <td>0.5</td>\n",
       "        <td>0.63</td>\n",
       "    </tr>\n",
       "    <tr>\n",
       "        <td>None</td>\n",
       "        <td>diameter</td>\n",
       "        <td>4177</td>\n",
       "        <td>0</td>\n",
       "        <td>0.407881254488868</td>\n",
       "        <td>0.0992398661336559</td>\n",
       "        <td>0.055</td>\n",
       "        <td>0.35</td>\n",
       "        <td>0.425</td>\n",
       "        <td>0.48</td>\n",
       "        <td>0.65</td>\n",
       "    </tr>\n",
       "    <tr>\n",
       "        <td>f</td>\n",
       "        <td>shucked_weight</td>\n",
       "        <td>1307</td>\n",
       "        <td>0</td>\n",
       "        <td>0.446187834736037</td>\n",
       "        <td>0.19866321269946</td>\n",
       "        <td>0.031</td>\n",
       "        <td>0.295</td>\n",
       "        <td>0.4405</td>\n",
       "        <td>0.57325</td>\n",
       "        <td>1.488</td>\n",
       "    </tr>\n",
       "    <tr>\n",
       "        <td>i</td>\n",
       "        <td>shucked_weight</td>\n",
       "        <td>1342</td>\n",
       "        <td>0</td>\n",
       "        <td>0.191035022354694</td>\n",
       "        <td>0.128405320911717</td>\n",
       "        <td>0.001</td>\n",
       "        <td>0.09</td>\n",
       "        <td>0.16975</td>\n",
       "        <td>0.270375</td>\n",
       "        <td>0.7735</td>\n",
       "    </tr>\n",
       "    <tr>\n",
       "        <td>m</td>\n",
       "        <td>shucked_weight</td>\n",
       "        <td>1528</td>\n",
       "        <td>0</td>\n",
       "        <td>0.432946007853403</td>\n",
       "        <td>0.222999972535683</td>\n",
       "        <td>0.0065</td>\n",
       "        <td>0.276375</td>\n",
       "        <td>0.42175</td>\n",
       "        <td>0.566</td>\n",
       "        <td>1.351</td>\n",
       "    </tr>\n",
       "    <tr>\n",
       "        <td>None</td>\n",
       "        <td>shucked_weight</td>\n",
       "        <td>4177</td>\n",
       "        <td>0</td>\n",
       "        <td>0.359367488628203</td>\n",
       "        <td>0.221962949033219</td>\n",
       "        <td>0.001</td>\n",
       "        <td>0.186</td>\n",
       "        <td>0.336</td>\n",
       "        <td>0.502</td>\n",
       "        <td>1.488</td>\n",
       "    </tr>\n",
       "</table>"
      ],
      "text/plain": [
       "[('f', 'diameter', 1307, 0, 0.454732211170619, 0.0709542066690581, 0.195, 0.41, 0.465, 0.505, 0.65),\n",
       " ('i', 'diameter', 1342, 0, 0.326494038748137, 0.0881089313434407, 0.055, 0.27, 0.335, 0.39, 0.55),\n",
       " ('m', 'diameter', 1528, 0, 0.43928664921466, 0.0843980668734395, 0.11, 0.395, 0.455, 0.5, 0.63),\n",
       " (None, 'diameter', 4177, 0, 0.407881254488868, 0.0992398661336559, 0.055, 0.35, 0.425, 0.48, 0.65),\n",
       " ('f', 'shucked_weight', 1307, 0, 0.446187834736037, 0.19866321269946, 0.031, 0.295, 0.4405, 0.57325, 1.488),\n",
       " ('i', 'shucked_weight', 1342, 0, 0.191035022354694, 0.128405320911717, 0.001, 0.09, 0.16975, 0.270375, 0.7735),\n",
       " ('m', 'shucked_weight', 1528, 0, 0.432946007853403, 0.222999972535683, 0.0065, 0.276375, 0.42175, 0.566, 1.351),\n",
       " (None, 'shucked_weight', 4177, 0, 0.359367488628203, 0.221962949033219, 0.001, 0.186, 0.336, 0.502, 1.488)]"
      ]
     },
     "execution_count": 207,
     "metadata": {},
     "output_type": "execute_result"
    }
   ],
   "source": [
    "%%sql\n",
    "select group_by_value\n",
    ", target_column\n",
    ", row_count\n",
    ", missing_values\n",
    ", mean\n",
    ", SQRT(variance) AS std_dev\n",
    ", min\n",
    ", first_quartile\n",
    ", median\n",
    ", third_quartile\n",
    ", max \n",
    "from \n",
    "abalone_v2_summary \n",
    "order by target_column, group_by_value\n",
    ";"
   ]
  },
  {
   "cell_type": "markdown",
   "metadata": {},
   "source": [
    "# Exploratory Data Analysis"
   ]
  },
  {
   "cell_type": "markdown",
   "metadata": {},
   "source": [
    "We will make use of Python for visualizing this data.  Let's start by saving data from Greenplum as Python objects, and then using visualization libaries in Python to generate our plots.\n",
    "\n",
    "Note that we are using the << operator in sql magic for object assignment."
   ]
  },
  {
   "cell_type": "code",
   "execution_count": 208,
   "metadata": {},
   "outputs": [
    {
     "name": "stdout",
     "output_type": "stream",
     "text": [
      " * postgresql://gpadmin@192.168.115.128:5432/demo\n",
      "4177 rows affected.\n",
      "Returning data to local variable df_abalone\n"
     ]
    }
   ],
   "source": [
    "%%sql \n",
    "df_abalone << select sex, diameter, shucked_weight, mature \n",
    "from classification_madlib.abalone_v2;"
   ]
  },
  {
   "cell_type": "markdown",
   "metadata": {},
   "source": [
    "We can use the result set's .DataFrame() method to work with these objects as data frames."
   ]
  },
  {
   "cell_type": "code",
   "execution_count": 209,
   "metadata": {},
   "outputs": [
    {
     "data": {
      "text/html": [
       "<div>\n",
       "<style scoped>\n",
       "    .dataframe tbody tr th:only-of-type {\n",
       "        vertical-align: middle;\n",
       "    }\n",
       "\n",
       "    .dataframe tbody tr th {\n",
       "        vertical-align: top;\n",
       "    }\n",
       "\n",
       "    .dataframe thead th {\n",
       "        text-align: right;\n",
       "    }\n",
       "</style>\n",
       "<table border=\"1\" class=\"dataframe\">\n",
       "  <thead>\n",
       "    <tr style=\"text-align: right;\">\n",
       "      <th></th>\n",
       "      <th>sex</th>\n",
       "      <th>diameter</th>\n",
       "      <th>shucked_weight</th>\n",
       "      <th>mature</th>\n",
       "    </tr>\n",
       "  </thead>\n",
       "  <tbody>\n",
       "    <tr>\n",
       "      <th>0</th>\n",
       "      <td>m</td>\n",
       "      <td>0.365</td>\n",
       "      <td>0.2245</td>\n",
       "      <td>1</td>\n",
       "    </tr>\n",
       "    <tr>\n",
       "      <th>1</th>\n",
       "      <td>f</td>\n",
       "      <td>0.420</td>\n",
       "      <td>0.2565</td>\n",
       "      <td>1</td>\n",
       "    </tr>\n",
       "    <tr>\n",
       "      <th>2</th>\n",
       "      <td>i</td>\n",
       "      <td>0.255</td>\n",
       "      <td>0.0895</td>\n",
       "      <td>0</td>\n",
       "    </tr>\n",
       "    <tr>\n",
       "      <th>3</th>\n",
       "      <td>f</td>\n",
       "      <td>0.415</td>\n",
       "      <td>0.2370</td>\n",
       "      <td>1</td>\n",
       "    </tr>\n",
       "    <tr>\n",
       "      <th>4</th>\n",
       "      <td>m</td>\n",
       "      <td>0.370</td>\n",
       "      <td>0.2165</td>\n",
       "      <td>1</td>\n",
       "    </tr>\n",
       "    <tr>\n",
       "      <th>5</th>\n",
       "      <td>f</td>\n",
       "      <td>0.380</td>\n",
       "      <td>0.1940</td>\n",
       "      <td>1</td>\n",
       "    </tr>\n",
       "    <tr>\n",
       "      <th>6</th>\n",
       "      <td>m</td>\n",
       "      <td>0.380</td>\n",
       "      <td>0.2175</td>\n",
       "      <td>1</td>\n",
       "    </tr>\n",
       "    <tr>\n",
       "      <th>7</th>\n",
       "      <td>f</td>\n",
       "      <td>0.355</td>\n",
       "      <td>0.1675</td>\n",
       "      <td>1</td>\n",
       "    </tr>\n",
       "    <tr>\n",
       "      <th>8</th>\n",
       "      <td>i</td>\n",
       "      <td>0.280</td>\n",
       "      <td>0.0950</td>\n",
       "      <td>0</td>\n",
       "    </tr>\n",
       "    <tr>\n",
       "      <th>9</th>\n",
       "      <td>m</td>\n",
       "      <td>0.295</td>\n",
       "      <td>0.0970</td>\n",
       "      <td>0</td>\n",
       "    </tr>\n",
       "    <tr>\n",
       "      <th>10</th>\n",
       "      <td>m</td>\n",
       "      <td>0.280</td>\n",
       "      <td>0.0955</td>\n",
       "      <td>1</td>\n",
       "    </tr>\n",
       "    <tr>\n",
       "      <th>11</th>\n",
       "      <td>f</td>\n",
       "      <td>0.440</td>\n",
       "      <td>0.4275</td>\n",
       "      <td>1</td>\n",
       "    </tr>\n",
       "    <tr>\n",
       "      <th>12</th>\n",
       "      <td>f</td>\n",
       "      <td>0.480</td>\n",
       "      <td>0.5130</td>\n",
       "      <td>1</td>\n",
       "    </tr>\n",
       "    <tr>\n",
       "      <th>13</th>\n",
       "      <td>f</td>\n",
       "      <td>0.450</td>\n",
       "      <td>0.3945</td>\n",
       "      <td>1</td>\n",
       "    </tr>\n",
       "    <tr>\n",
       "      <th>14</th>\n",
       "      <td>m</td>\n",
       "      <td>0.475</td>\n",
       "      <td>0.3940</td>\n",
       "      <td>1</td>\n",
       "    </tr>\n",
       "    <tr>\n",
       "      <th>15</th>\n",
       "      <td>m</td>\n",
       "      <td>0.470</td>\n",
       "      <td>0.3935</td>\n",
       "      <td>1</td>\n",
       "    </tr>\n",
       "    <tr>\n",
       "      <th>16</th>\n",
       "      <td>m</td>\n",
       "      <td>0.525</td>\n",
       "      <td>0.5515</td>\n",
       "      <td>1</td>\n",
       "    </tr>\n",
       "    <tr>\n",
       "      <th>17</th>\n",
       "      <td>f</td>\n",
       "      <td>0.550</td>\n",
       "      <td>0.6330</td>\n",
       "      <td>1</td>\n",
       "    </tr>\n",
       "    <tr>\n",
       "      <th>18</th>\n",
       "      <td>f</td>\n",
       "      <td>0.475</td>\n",
       "      <td>0.5305</td>\n",
       "      <td>1</td>\n",
       "    </tr>\n",
       "    <tr>\n",
       "      <th>19</th>\n",
       "      <td>f</td>\n",
       "      <td>0.445</td>\n",
       "      <td>0.3810</td>\n",
       "      <td>1</td>\n",
       "    </tr>\n",
       "    <tr>\n",
       "      <th>20</th>\n",
       "      <td>f</td>\n",
       "      <td>0.335</td>\n",
       "      <td>0.1865</td>\n",
       "      <td>1</td>\n",
       "    </tr>\n",
       "    <tr>\n",
       "      <th>21</th>\n",
       "      <td>i</td>\n",
       "      <td>0.175</td>\n",
       "      <td>0.0315</td>\n",
       "      <td>0</td>\n",
       "    </tr>\n",
       "    <tr>\n",
       "      <th>22</th>\n",
       "      <td>i</td>\n",
       "      <td>0.150</td>\n",
       "      <td>0.0175</td>\n",
       "      <td>0</td>\n",
       "    </tr>\n",
       "    <tr>\n",
       "      <th>23</th>\n",
       "      <td>m</td>\n",
       "      <td>0.370</td>\n",
       "      <td>0.2930</td>\n",
       "      <td>1</td>\n",
       "    </tr>\n",
       "    <tr>\n",
       "      <th>24</th>\n",
       "      <td>i</td>\n",
       "      <td>0.245</td>\n",
       "      <td>0.0755</td>\n",
       "      <td>0</td>\n",
       "    </tr>\n",
       "    <tr>\n",
       "      <th>25</th>\n",
       "      <td>i</td>\n",
       "      <td>0.410</td>\n",
       "      <td>0.2385</td>\n",
       "      <td>0</td>\n",
       "    </tr>\n",
       "    <tr>\n",
       "      <th>26</th>\n",
       "      <td>m</td>\n",
       "      <td>0.360</td>\n",
       "      <td>0.2595</td>\n",
       "      <td>1</td>\n",
       "    </tr>\n",
       "    <tr>\n",
       "      <th>27</th>\n",
       "      <td>m</td>\n",
       "      <td>0.310</td>\n",
       "      <td>0.1730</td>\n",
       "      <td>0</td>\n",
       "    </tr>\n",
       "    <tr>\n",
       "      <th>28</th>\n",
       "      <td>m</td>\n",
       "      <td>0.350</td>\n",
       "      <td>0.1920</td>\n",
       "      <td>0</td>\n",
       "    </tr>\n",
       "    <tr>\n",
       "      <th>29</th>\n",
       "      <td>i</td>\n",
       "      <td>0.190</td>\n",
       "      <td>0.0420</td>\n",
       "      <td>0</td>\n",
       "    </tr>\n",
       "    <tr>\n",
       "      <th>...</th>\n",
       "      <td>...</td>\n",
       "      <td>...</td>\n",
       "      <td>...</td>\n",
       "      <td>...</td>\n",
       "    </tr>\n",
       "    <tr>\n",
       "      <th>4147</th>\n",
       "      <td>f</td>\n",
       "      <td>0.505</td>\n",
       "      <td>0.6185</td>\n",
       "      <td>1</td>\n",
       "    </tr>\n",
       "    <tr>\n",
       "      <th>4148</th>\n",
       "      <td>i</td>\n",
       "      <td>0.215</td>\n",
       "      <td>0.0480</td>\n",
       "      <td>0</td>\n",
       "    </tr>\n",
       "    <tr>\n",
       "      <th>4149</th>\n",
       "      <td>i</td>\n",
       "      <td>0.350</td>\n",
       "      <td>0.2150</td>\n",
       "      <td>1</td>\n",
       "    </tr>\n",
       "    <tr>\n",
       "      <th>4150</th>\n",
       "      <td>i</td>\n",
       "      <td>0.375</td>\n",
       "      <td>0.2275</td>\n",
       "      <td>0</td>\n",
       "    </tr>\n",
       "    <tr>\n",
       "      <th>4151</th>\n",
       "      <td>i</td>\n",
       "      <td>0.415</td>\n",
       "      <td>0.3195</td>\n",
       "      <td>1</td>\n",
       "    </tr>\n",
       "    <tr>\n",
       "      <th>4152</th>\n",
       "      <td>i</td>\n",
       "      <td>0.445</td>\n",
       "      <td>0.3780</td>\n",
       "      <td>1</td>\n",
       "    </tr>\n",
       "    <tr>\n",
       "      <th>4153</th>\n",
       "      <td>i</td>\n",
       "      <td>0.425</td>\n",
       "      <td>0.3310</td>\n",
       "      <td>1</td>\n",
       "    </tr>\n",
       "    <tr>\n",
       "      <th>4154</th>\n",
       "      <td>i</td>\n",
       "      <td>0.425</td>\n",
       "      <td>0.3790</td>\n",
       "      <td>1</td>\n",
       "    </tr>\n",
       "    <tr>\n",
       "      <th>4155</th>\n",
       "      <td>m</td>\n",
       "      <td>0.450</td>\n",
       "      <td>0.4055</td>\n",
       "      <td>1</td>\n",
       "    </tr>\n",
       "    <tr>\n",
       "      <th>4156</th>\n",
       "      <td>f</td>\n",
       "      <td>0.500</td>\n",
       "      <td>0.4405</td>\n",
       "      <td>1</td>\n",
       "    </tr>\n",
       "    <tr>\n",
       "      <th>4157</th>\n",
       "      <td>m</td>\n",
       "      <td>0.505</td>\n",
       "      <td>0.4920</td>\n",
       "      <td>1</td>\n",
       "    </tr>\n",
       "    <tr>\n",
       "      <th>4158</th>\n",
       "      <td>f</td>\n",
       "      <td>0.495</td>\n",
       "      <td>0.5205</td>\n",
       "      <td>1</td>\n",
       "    </tr>\n",
       "    <tr>\n",
       "      <th>4159</th>\n",
       "      <td>f</td>\n",
       "      <td>0.505</td>\n",
       "      <td>0.5725</td>\n",
       "      <td>1</td>\n",
       "    </tr>\n",
       "    <tr>\n",
       "      <th>4160</th>\n",
       "      <td>f</td>\n",
       "      <td>0.500</td>\n",
       "      <td>0.6420</td>\n",
       "      <td>1</td>\n",
       "    </tr>\n",
       "    <tr>\n",
       "      <th>4161</th>\n",
       "      <td>m</td>\n",
       "      <td>0.525</td>\n",
       "      <td>0.6205</td>\n",
       "      <td>1</td>\n",
       "    </tr>\n",
       "    <tr>\n",
       "      <th>4162</th>\n",
       "      <td>m</td>\n",
       "      <td>0.550</td>\n",
       "      <td>0.7270</td>\n",
       "      <td>1</td>\n",
       "    </tr>\n",
       "    <tr>\n",
       "      <th>4163</th>\n",
       "      <td>i</td>\n",
       "      <td>0.215</td>\n",
       "      <td>0.0630</td>\n",
       "      <td>0</td>\n",
       "    </tr>\n",
       "    <tr>\n",
       "      <th>4164</th>\n",
       "      <td>i</td>\n",
       "      <td>0.250</td>\n",
       "      <td>0.0835</td>\n",
       "      <td>0</td>\n",
       "    </tr>\n",
       "    <tr>\n",
       "      <th>4165</th>\n",
       "      <td>i</td>\n",
       "      <td>0.315</td>\n",
       "      <td>0.1885</td>\n",
       "      <td>0</td>\n",
       "    </tr>\n",
       "    <tr>\n",
       "      <th>4166</th>\n",
       "      <td>i</td>\n",
       "      <td>0.350</td>\n",
       "      <td>0.1575</td>\n",
       "      <td>0</td>\n",
       "    </tr>\n",
       "    <tr>\n",
       "      <th>4167</th>\n",
       "      <td>m</td>\n",
       "      <td>0.360</td>\n",
       "      <td>0.2410</td>\n",
       "      <td>0</td>\n",
       "    </tr>\n",
       "    <tr>\n",
       "      <th>4168</th>\n",
       "      <td>f</td>\n",
       "      <td>0.440</td>\n",
       "      <td>0.3500</td>\n",
       "      <td>1</td>\n",
       "    </tr>\n",
       "    <tr>\n",
       "      <th>4169</th>\n",
       "      <td>f</td>\n",
       "      <td>0.455</td>\n",
       "      <td>0.4255</td>\n",
       "      <td>1</td>\n",
       "    </tr>\n",
       "    <tr>\n",
       "      <th>4170</th>\n",
       "      <td>i</td>\n",
       "      <td>0.310</td>\n",
       "      <td>0.1810</td>\n",
       "      <td>0</td>\n",
       "    </tr>\n",
       "    <tr>\n",
       "      <th>4171</th>\n",
       "      <td>i</td>\n",
       "      <td>0.300</td>\n",
       "      <td>0.1500</td>\n",
       "      <td>0</td>\n",
       "    </tr>\n",
       "    <tr>\n",
       "      <th>4172</th>\n",
       "      <td>m</td>\n",
       "      <td>0.380</td>\n",
       "      <td>0.2690</td>\n",
       "      <td>1</td>\n",
       "    </tr>\n",
       "    <tr>\n",
       "      <th>4173</th>\n",
       "      <td>m</td>\n",
       "      <td>0.385</td>\n",
       "      <td>0.3750</td>\n",
       "      <td>1</td>\n",
       "    </tr>\n",
       "    <tr>\n",
       "      <th>4174</th>\n",
       "      <td>m</td>\n",
       "      <td>0.430</td>\n",
       "      <td>0.4000</td>\n",
       "      <td>0</td>\n",
       "    </tr>\n",
       "    <tr>\n",
       "      <th>4175</th>\n",
       "      <td>m</td>\n",
       "      <td>0.440</td>\n",
       "      <td>0.4390</td>\n",
       "      <td>1</td>\n",
       "    </tr>\n",
       "    <tr>\n",
       "      <th>4176</th>\n",
       "      <td>f</td>\n",
       "      <td>0.485</td>\n",
       "      <td>0.5310</td>\n",
       "      <td>1</td>\n",
       "    </tr>\n",
       "  </tbody>\n",
       "</table>\n",
       "<p>4177 rows × 4 columns</p>\n",
       "</div>"
      ],
      "text/plain": [
       "     sex  diameter  shucked_weight  mature\n",
       "0      m     0.365          0.2245       1\n",
       "1      f     0.420          0.2565       1\n",
       "2      i     0.255          0.0895       0\n",
       "3      f     0.415          0.2370       1\n",
       "4      m     0.370          0.2165       1\n",
       "5      f     0.380          0.1940       1\n",
       "6      m     0.380          0.2175       1\n",
       "7      f     0.355          0.1675       1\n",
       "8      i     0.280          0.0950       0\n",
       "9      m     0.295          0.0970       0\n",
       "10     m     0.280          0.0955       1\n",
       "11     f     0.440          0.4275       1\n",
       "12     f     0.480          0.5130       1\n",
       "13     f     0.450          0.3945       1\n",
       "14     m     0.475          0.3940       1\n",
       "15     m     0.470          0.3935       1\n",
       "16     m     0.525          0.5515       1\n",
       "17     f     0.550          0.6330       1\n",
       "18     f     0.475          0.5305       1\n",
       "19     f     0.445          0.3810       1\n",
       "20     f     0.335          0.1865       1\n",
       "21     i     0.175          0.0315       0\n",
       "22     i     0.150          0.0175       0\n",
       "23     m     0.370          0.2930       1\n",
       "24     i     0.245          0.0755       0\n",
       "25     i     0.410          0.2385       0\n",
       "26     m     0.360          0.2595       1\n",
       "27     m     0.310          0.1730       0\n",
       "28     m     0.350          0.1920       0\n",
       "29     i     0.190          0.0420       0\n",
       "...   ..       ...             ...     ...\n",
       "4147   f     0.505          0.6185       1\n",
       "4148   i     0.215          0.0480       0\n",
       "4149   i     0.350          0.2150       1\n",
       "4150   i     0.375          0.2275       0\n",
       "4151   i     0.415          0.3195       1\n",
       "4152   i     0.445          0.3780       1\n",
       "4153   i     0.425          0.3310       1\n",
       "4154   i     0.425          0.3790       1\n",
       "4155   m     0.450          0.4055       1\n",
       "4156   f     0.500          0.4405       1\n",
       "4157   m     0.505          0.4920       1\n",
       "4158   f     0.495          0.5205       1\n",
       "4159   f     0.505          0.5725       1\n",
       "4160   f     0.500          0.6420       1\n",
       "4161   m     0.525          0.6205       1\n",
       "4162   m     0.550          0.7270       1\n",
       "4163   i     0.215          0.0630       0\n",
       "4164   i     0.250          0.0835       0\n",
       "4165   i     0.315          0.1885       0\n",
       "4166   i     0.350          0.1575       0\n",
       "4167   m     0.360          0.2410       0\n",
       "4168   f     0.440          0.3500       1\n",
       "4169   f     0.455          0.4255       1\n",
       "4170   i     0.310          0.1810       0\n",
       "4171   i     0.300          0.1500       0\n",
       "4172   m     0.380          0.2690       1\n",
       "4173   m     0.385          0.3750       1\n",
       "4174   m     0.430          0.4000       0\n",
       "4175   m     0.440          0.4390       1\n",
       "4176   f     0.485          0.5310       1\n",
       "\n",
       "[4177 rows x 4 columns]"
      ]
     },
     "execution_count": 209,
     "metadata": {},
     "output_type": "execute_result"
    }
   ],
   "source": [
    "df_abalone.DataFrame()"
   ]
  },
  {
   "cell_type": "markdown",
   "metadata": {},
   "source": [
    "Next, we'll use this data frame to generate a scatterplot matrix to visually asseess potential relationships between the variables."
   ]
  },
  {
   "cell_type": "code",
   "execution_count": 210,
   "metadata": {},
   "outputs": [],
   "source": [
    "import matplotlib.pyplot as plt\n",
    "import seaborn as sns"
   ]
  },
  {
   "cell_type": "code",
   "execution_count": 211,
   "metadata": {},
   "outputs": [
    {
     "data": {
      "image/png": "[encoded data removed]",
      "text/plain": [
       "<Figure size 585.625x540 with 12 Axes>"
      ]
     },
     "metadata": {
      "needs_background": "light"
     },
     "output_type": "display_data"
    }
   ],
   "source": [
    "sns.pairplot(\n",
    "            df_abalone.DataFrame()\n",
    "            , diag_kind='kde'\n",
    "            , hue='sex'\n",
    "            , palette='bright')\n",
    "\n",
    "plt.show()"
   ]
  },
  {
   "cell_type": "markdown",
   "metadata": {},
   "source": [
    "Given that metrics like the diameter and weight of an abalone are most likely related to each outher, we see that there are some correlations between the varibles here.  \n",
    "\n",
    "Also, it looks like the abalone in the 'infant' group, represented by the green data, may exhibit different patterns that the abalone in the 'male' and 'female' groups.\n",
    "\n",
    "As an alternative to the visualizations, we can also compute correlation statistics between each variable pair, using a module in MADlib."
   ]
  },
  {
   "cell_type": "code",
   "execution_count": 212,
   "metadata": {},
   "outputs": [
    {
     "name": "stdout",
     "output_type": "stream",
     "text": [
      " * postgresql://gpadmin@192.168.115.128:5432/demo\n",
      "Done.\n",
      "1 rows affected.\n"
     ]
    },
    {
     "data": {
      "text/html": [
       "<table>\n",
       "    <tr>\n",
       "        <th>correlation</th>\n",
       "    </tr>\n",
       "    <tr>\n",
       "        <td>Summary for &#x27;Correlation&#x27; function<br>Output table = classification_madlib.abalone_corr<br>Grouping columns: sex<br>Producing correlation for columns: diameter,shucked_weight,mature<br>Total run time = (&#x27;classification_madlib.abalone_corr&#x27;, 3, 0.3523099422454834)</td>\n",
       "    </tr>\n",
       "</table>"
      ],
      "text/plain": [
       "[(\"Summary for 'Correlation' function\\nOutput table = classification_madlib.abalone_corr\\nGrouping columns: sex\\nProducing correlation for columns: diameter,shucked_weight,mature\\nTotal run time = ('classification_madlib.abalone_corr', 3, 0.3523099422454834)\",)]"
      ]
     },
     "execution_count": 212,
     "metadata": {},
     "output_type": "execute_result"
    }
   ],
   "source": [
    "%%sql\n",
    "drop table if exists abalone_corr, abalone_corr_summary;\n",
    "\n",
    "select madlib.correlation(\n",
    "'classification_madlib.abalone_v2'\n",
    ", 'classification_madlib.abalone_corr'\n",
    ",'diameter, shucked_weight, mature'\n",
    ", TRUE\n",
    ", 'sex'\n",
    ")\n",
    ";"
   ]
  },
  {
   "cell_type": "markdown",
   "metadata": {},
   "source": [
    "We then assign the output of the correlations computed in Greenplum in a Python object."
   ]
  },
  {
   "cell_type": "code",
   "execution_count": 213,
   "metadata": {},
   "outputs": [
    {
     "name": "stdout",
     "output_type": "stream",
     "text": [
      " * postgresql://gpadmin@192.168.115.128:5432/demo\n",
      "9 rows affected.\n",
      "Returning data to local variable df_corr\n"
     ]
    }
   ],
   "source": [
    "%%sql\n",
    "df_corr << select * \n",
    "from classification_madlib.abalone_corr \n",
    "order by sex, column_position;"
   ]
  },
  {
   "cell_type": "code",
   "execution_count": 214,
   "metadata": {},
   "outputs": [
    {
     "data": {
      "text/html": [
       "<div>\n",
       "<style scoped>\n",
       "    .dataframe tbody tr th:only-of-type {\n",
       "        vertical-align: middle;\n",
       "    }\n",
       "\n",
       "    .dataframe tbody tr th {\n",
       "        vertical-align: top;\n",
       "    }\n",
       "\n",
       "    .dataframe thead th {\n",
       "        text-align: right;\n",
       "    }\n",
       "</style>\n",
       "<table border=\"1\" class=\"dataframe\">\n",
       "  <thead>\n",
       "    <tr style=\"text-align: right;\">\n",
       "      <th></th>\n",
       "      <th>column_position</th>\n",
       "      <th>variable</th>\n",
       "      <th>sex</th>\n",
       "      <th>diameter</th>\n",
       "      <th>shucked_weight</th>\n",
       "      <th>mature</th>\n",
       "    </tr>\n",
       "  </thead>\n",
       "  <tbody>\n",
       "    <tr>\n",
       "      <th>0</th>\n",
       "      <td>1</td>\n",
       "      <td>diameter</td>\n",
       "      <td>f</td>\n",
       "      <td>1.000000</td>\n",
       "      <td>NaN</td>\n",
       "      <td>NaN</td>\n",
       "    </tr>\n",
       "    <tr>\n",
       "      <th>1</th>\n",
       "      <td>2</td>\n",
       "      <td>shucked_weight</td>\n",
       "      <td>f</td>\n",
       "      <td>0.878953</td>\n",
       "      <td>1.000000</td>\n",
       "      <td>NaN</td>\n",
       "    </tr>\n",
       "    <tr>\n",
       "      <th>2</th>\n",
       "      <td>3</td>\n",
       "      <td>mature</td>\n",
       "      <td>f</td>\n",
       "      <td>0.339494</td>\n",
       "      <td>0.237307</td>\n",
       "      <td>1.0</td>\n",
       "    </tr>\n",
       "    <tr>\n",
       "      <th>3</th>\n",
       "      <td>1</td>\n",
       "      <td>diameter</td>\n",
       "      <td>i</td>\n",
       "      <td>1.000000</td>\n",
       "      <td>NaN</td>\n",
       "      <td>NaN</td>\n",
       "    </tr>\n",
       "    <tr>\n",
       "      <th>4</th>\n",
       "      <td>2</td>\n",
       "      <td>shucked_weight</td>\n",
       "      <td>i</td>\n",
       "      <td>0.899157</td>\n",
       "      <td>1.000000</td>\n",
       "      <td>NaN</td>\n",
       "    </tr>\n",
       "    <tr>\n",
       "      <th>5</th>\n",
       "      <td>3</td>\n",
       "      <td>mature</td>\n",
       "      <td>i</td>\n",
       "      <td>0.575139</td>\n",
       "      <td>0.549693</td>\n",
       "      <td>1.0</td>\n",
       "    </tr>\n",
       "    <tr>\n",
       "      <th>6</th>\n",
       "      <td>1</td>\n",
       "      <td>diameter</td>\n",
       "      <td>m</td>\n",
       "      <td>1.000000</td>\n",
       "      <td>NaN</td>\n",
       "      <td>NaN</td>\n",
       "    </tr>\n",
       "    <tr>\n",
       "      <th>7</th>\n",
       "      <td>2</td>\n",
       "      <td>shucked_weight</td>\n",
       "      <td>m</td>\n",
       "      <td>0.873510</td>\n",
       "      <td>1.000000</td>\n",
       "      <td>NaN</td>\n",
       "    </tr>\n",
       "    <tr>\n",
       "      <th>8</th>\n",
       "      <td>3</td>\n",
       "      <td>mature</td>\n",
       "      <td>m</td>\n",
       "      <td>0.438005</td>\n",
       "      <td>0.327700</td>\n",
       "      <td>1.0</td>\n",
       "    </tr>\n",
       "  </tbody>\n",
       "</table>\n",
       "</div>"
      ],
      "text/plain": [
       "   column_position        variable sex  diameter  shucked_weight  mature\n",
       "0                1        diameter   f  1.000000             NaN     NaN\n",
       "1                2  shucked_weight   f  0.878953        1.000000     NaN\n",
       "2                3          mature   f  0.339494        0.237307     1.0\n",
       "3                1        diameter   i  1.000000             NaN     NaN\n",
       "4                2  shucked_weight   i  0.899157        1.000000     NaN\n",
       "5                3          mature   i  0.575139        0.549693     1.0\n",
       "6                1        diameter   m  1.000000             NaN     NaN\n",
       "7                2  shucked_weight   m  0.873510        1.000000     NaN\n",
       "8                3          mature   m  0.438005        0.327700     1.0"
      ]
     },
     "execution_count": 214,
     "metadata": {},
     "output_type": "execute_result"
    }
   ],
   "source": [
    "df_corr.DataFrame()"
   ]
  },
  {
   "cell_type": "markdown",
   "metadata": {},
   "source": [
    "Supporting what we saw in the scatterplots, it looks like there are some strong correlations between the diameter and shucked_weight variables.\n",
    "\n",
    "Earlier we also saw that there might be different patterns exhibited by the data depending on the sex of the abalone.  We will take a look at a boxplot to visually look into this.\n",
    "\n",
    "Let's start by plotting the diameter variable."
   ]
  },
  {
   "cell_type": "code",
   "execution_count": 215,
   "metadata": {},
   "outputs": [
    {
     "data": {
      "image/png": "[encoded data removed]",
      "text/plain": [
       "<Figure size 720x576 with 1 Axes>"
      ]
     },
     "metadata": {
      "needs_background": "light"
     },
     "output_type": "display_data"
    }
   ],
   "source": [
    "plt.figure(figsize=(10,8))\n",
    "sns.boxplot(\n",
    "data=df_abalone.DataFrame()\n",
    ", x='sex'\n",
    ", y='diameter'\n",
    ", hue='mature'    \n",
    ")\n",
    "plt.show()"
   ]
  },
  {
   "cell_type": "markdown",
   "metadata": {},
   "source": [
    "It looks like the mature abalone, summarized by the orange boxes, generally have a higher value of diameter comparted to the non-mature abalone (less than 10 years of age) represented by the blue boxes.\n",
    "\n",
    "Let's also take a look at the shucked_weight variable."
   ]
  },
  {
   "cell_type": "code",
   "execution_count": 216,
   "metadata": {},
   "outputs": [
    {
     "data": {
      "image/png": "[encoded data removed]",
      "text/plain": [
       "<Figure size 720x576 with 1 Axes>"
      ]
     },
     "metadata": {
      "needs_background": "light"
     },
     "output_type": "display_data"
    }
   ],
   "source": [
    "plt.figure(figsize=(10,8))\n",
    "sns.boxplot(\n",
    "data=df_abalone.DataFrame()\n",
    ", x='sex'\n",
    ", y='shucked_weight'\n",
    ", hue='mature'    \n",
    ")\n",
    "plt.show()"
   ]
  },
  {
   "cell_type": "markdown",
   "metadata": {},
   "source": [
    "We see here as well that the shucked_weight mature abalone are generally higher than that of abalone less than 10 years of age, which is in line with what we would generally expect biologically."
   ]
  },
  {
   "cell_type": "markdown",
   "metadata": {},
   "source": [
    "## Model Training - Classification"
   ]
  },
  {
   "cell_type": "markdown",
   "metadata": {},
   "source": [
    "After exploring the data through summary statistics and visualizations, we now move forward to train a model to predict whether or not a given abalone is mature, or at least ten years in age.\n",
    "\n",
    "One of the variables that we want to include as a predictor in our model is 'sex'.  This is a categorical variable, and MADlib contains a function to do one-hot encoding on categorical variables."
   ]
  },
  {
   "cell_type": "code",
   "execution_count": 217,
   "metadata": {},
   "outputs": [
    {
     "name": "stdout",
     "output_type": "stream",
     "text": [
      " * postgresql://gpadmin@192.168.115.128:5432/demo\n",
      "5 rows affected.\n"
     ]
    },
    {
     "data": {
      "text/html": [
       "<table>\n",
       "    <tr>\n",
       "        <th>id</th>\n",
       "        <th>sex</th>\n",
       "        <th>diameter</th>\n",
       "        <th>shucked_weight</th>\n",
       "        <th>rings</th>\n",
       "        <th>mature</th>\n",
       "    </tr>\n",
       "    <tr>\n",
       "        <td>1</td>\n",
       "        <td>m</td>\n",
       "        <td>0.365</td>\n",
       "        <td>0.2245</td>\n",
       "        <td>15.0</td>\n",
       "        <td>1</td>\n",
       "    </tr>\n",
       "    <tr>\n",
       "        <td>2</td>\n",
       "        <td>m</td>\n",
       "        <td>0.265</td>\n",
       "        <td>0.0995</td>\n",
       "        <td>7.0</td>\n",
       "        <td>0</td>\n",
       "    </tr>\n",
       "    <tr>\n",
       "        <td>3</td>\n",
       "        <td>f</td>\n",
       "        <td>0.42</td>\n",
       "        <td>0.2565</td>\n",
       "        <td>9.0</td>\n",
       "        <td>1</td>\n",
       "    </tr>\n",
       "    <tr>\n",
       "        <td>4</td>\n",
       "        <td>m</td>\n",
       "        <td>0.365</td>\n",
       "        <td>0.2155</td>\n",
       "        <td>10.0</td>\n",
       "        <td>1</td>\n",
       "    </tr>\n",
       "    <tr>\n",
       "        <td>5</td>\n",
       "        <td>i</td>\n",
       "        <td>0.255</td>\n",
       "        <td>0.0895</td>\n",
       "        <td>7.0</td>\n",
       "        <td>0</td>\n",
       "    </tr>\n",
       "</table>"
      ],
      "text/plain": [
       "[(1, 'm', 0.365, 0.2245, 15.0, 1),\n",
       " (2, 'm', 0.265, 0.0995, 7.0, 0),\n",
       " (3, 'f', 0.42, 0.2565, 9.0, 1),\n",
       " (4, 'm', 0.365, 0.2155, 10.0, 1),\n",
       " (5, 'i', 0.255, 0.0895, 7.0, 0)]"
      ]
     },
     "execution_count": 217,
     "metadata": {},
     "output_type": "execute_result"
    }
   ],
   "source": [
    "%%sql\n",
    "select * from abalone_v2 order by id limit 5;"
   ]
  },
  {
   "cell_type": "code",
   "execution_count": 218,
   "metadata": {},
   "outputs": [
    {
     "name": "stdout",
     "output_type": "stream",
     "text": [
      " * postgresql://gpadmin@192.168.115.128:5432/demo\n",
      "Done.\n",
      "1 rows affected.\n"
     ]
    },
    {
     "data": {
      "text/html": [
       "<table>\n",
       "    <tr>\n",
       "        <th>encode_categorical_variables</th>\n",
       "    </tr>\n",
       "    <tr>\n",
       "        <td></td>\n",
       "    </tr>\n",
       "</table>"
      ],
      "text/plain": [
       "[('',)]"
      ]
     },
     "execution_count": 218,
     "metadata": {},
     "output_type": "execute_result"
    }
   ],
   "source": [
    "%%sql\n",
    "drop table if exists abalone_onehot;\n",
    "select madlib.encode_categorical_variables(\n",
    "'classification_madlib.abalone_v2'        -- source table\n",
    ",'classification_madlib.abalone_onehot'   -- output table name\n",
    ",'sex'                             -- categorical columns to encode, in lowercase\n",
    ")\n",
    ";"
   ]
  },
  {
   "cell_type": "code",
   "execution_count": 219,
   "metadata": {},
   "outputs": [
    {
     "name": "stdout",
     "output_type": "stream",
     "text": [
      " * postgresql://gpadmin@192.168.115.128:5432/demo\n",
      "5 rows affected.\n"
     ]
    },
    {
     "data": {
      "text/html": [
       "<table>\n",
       "    <tr>\n",
       "        <th>id</th>\n",
       "        <th>diameter</th>\n",
       "        <th>shucked_weight</th>\n",
       "        <th>rings</th>\n",
       "        <th>mature</th>\n",
       "        <th>sex_f</th>\n",
       "        <th>sex_i</th>\n",
       "        <th>sex_m</th>\n",
       "    </tr>\n",
       "    <tr>\n",
       "        <td>1</td>\n",
       "        <td>0.365</td>\n",
       "        <td>0.2245</td>\n",
       "        <td>15.0</td>\n",
       "        <td>1</td>\n",
       "        <td>0</td>\n",
       "        <td>0</td>\n",
       "        <td>1</td>\n",
       "    </tr>\n",
       "    <tr>\n",
       "        <td>2</td>\n",
       "        <td>0.265</td>\n",
       "        <td>0.0995</td>\n",
       "        <td>7.0</td>\n",
       "        <td>0</td>\n",
       "        <td>0</td>\n",
       "        <td>0</td>\n",
       "        <td>1</td>\n",
       "    </tr>\n",
       "    <tr>\n",
       "        <td>3</td>\n",
       "        <td>0.42</td>\n",
       "        <td>0.2565</td>\n",
       "        <td>9.0</td>\n",
       "        <td>1</td>\n",
       "        <td>1</td>\n",
       "        <td>0</td>\n",
       "        <td>0</td>\n",
       "    </tr>\n",
       "    <tr>\n",
       "        <td>4</td>\n",
       "        <td>0.365</td>\n",
       "        <td>0.2155</td>\n",
       "        <td>10.0</td>\n",
       "        <td>1</td>\n",
       "        <td>0</td>\n",
       "        <td>0</td>\n",
       "        <td>1</td>\n",
       "    </tr>\n",
       "    <tr>\n",
       "        <td>5</td>\n",
       "        <td>0.255</td>\n",
       "        <td>0.0895</td>\n",
       "        <td>7.0</td>\n",
       "        <td>0</td>\n",
       "        <td>0</td>\n",
       "        <td>1</td>\n",
       "        <td>0</td>\n",
       "    </tr>\n",
       "</table>"
      ],
      "text/plain": [
       "[(1, 0.365, 0.2245, 15.0, 1, 0, 0, 1),\n",
       " (2, 0.265, 0.0995, 7.0, 0, 0, 0, 1),\n",
       " (3, 0.42, 0.2565, 9.0, 1, 1, 0, 0),\n",
       " (4, 0.365, 0.2155, 10.0, 1, 0, 0, 1),\n",
       " (5, 0.255, 0.0895, 7.0, 0, 0, 1, 0)]"
      ]
     },
     "execution_count": 219,
     "metadata": {},
     "output_type": "execute_result"
    }
   ],
   "source": [
    "%%sql\n",
    "select * from abalone_onehot order by id limit 5;"
   ]
  },
  {
   "cell_type": "markdown",
   "metadata": {},
   "source": [
    "We see that the function has correctly mapped the categorical columns into 3 binary columns, one for each sex."
   ]
  },
  {
   "cell_type": "markdown",
   "metadata": {},
   "source": [
    "We now split up our dataset into a training and test set.  The training set will be used to build candidate models, and the test set will be used to evaluate the accuracy and performance of the built model.  \n",
    "\n",
    "To do this, we make use of the train_test_split() function available in MADlib.\n",
    "\n",
    "Note that for reproducability we make use of the setseed() function in Greenplum."
   ]
  },
  {
   "cell_type": "code",
   "execution_count": 220,
   "metadata": {},
   "outputs": [
    {
     "name": "stdout",
     "output_type": "stream",
     "text": [
      " * postgresql://gpadmin@192.168.115.128:5432/demo\n",
      "Done.\n",
      "1 rows affected.\n",
      "1 rows affected.\n"
     ]
    },
    {
     "data": {
      "text/html": [
       "<table>\n",
       "    <tr>\n",
       "        <th>train_test_split</th>\n",
       "    </tr>\n",
       "    <tr>\n",
       "        <td></td>\n",
       "    </tr>\n",
       "</table>"
      ],
      "text/plain": [
       "[('',)]"
      ]
     },
     "execution_count": 220,
     "metadata": {},
     "output_type": "execute_result"
    }
   ],
   "source": [
    "%%sql \n",
    "drop table if exists abalone_onehot_split, abalone_onehot_split_train, abalone_onehot_split_test;\n",
    "\n",
    "select setseed(0.1); --for reproducibilty\n",
    "\n",
    "select madlib.train_test_split(\n",
    "'classification_madlib.abalone_onehot'                   -- source table\n",
    ",'classification_madlib.abalone_onehot_split'            -- output table \n",
    ", 0.8                                                    -- proportion of training set\n",
    ", 0.2                                                    -- proportion of test set\n",
    ", NULL                                                   -- strata definition  \n",
    ", 'id, diameter, shucked_weight, sex_f, sex_i, mature'   -- columns to output\n",
    ", FALSE                                                  -- sampling with replacement \n",
    ", TRUE                                                   -- separate output tables \n",
    ")\n",
    ";"
   ]
  },
  {
   "cell_type": "code",
   "execution_count": 221,
   "metadata": {},
   "outputs": [
    {
     "name": "stdout",
     "output_type": "stream",
     "text": [
      " * postgresql://gpadmin@192.168.115.128:5432/demo\n",
      "1 rows affected.\n"
     ]
    },
    {
     "data": {
      "text/html": [
       "<table>\n",
       "    <tr>\n",
       "        <th>count</th>\n",
       "    </tr>\n",
       "    <tr>\n",
       "        <td>3342</td>\n",
       "    </tr>\n",
       "</table>"
      ],
      "text/plain": [
       "[(3342,)]"
      ]
     },
     "execution_count": 221,
     "metadata": {},
     "output_type": "execute_result"
    }
   ],
   "source": [
    "%%sql\n",
    "select count(*) from abalone_onehot_split_train;"
   ]
  },
  {
   "cell_type": "code",
   "execution_count": 222,
   "metadata": {},
   "outputs": [
    {
     "name": "stdout",
     "output_type": "stream",
     "text": [
      " * postgresql://gpadmin@192.168.115.128:5432/demo\n",
      "1 rows affected.\n"
     ]
    },
    {
     "data": {
      "text/html": [
       "<table>\n",
       "    <tr>\n",
       "        <th>count</th>\n",
       "    </tr>\n",
       "    <tr>\n",
       "        <td>835</td>\n",
       "    </tr>\n",
       "</table>"
      ],
      "text/plain": [
       "[(835,)]"
      ]
     },
     "execution_count": 222,
     "metadata": {},
     "output_type": "execute_result"
    }
   ],
   "source": [
    "%%sql\n",
    "select count(*) from abalone_onehot_split_test;"
   ]
  },
  {
   "cell_type": "code",
   "execution_count": 223,
   "metadata": {},
   "outputs": [
    {
     "data": {
      "text/plain": [
       "0.19990423749102226"
      ]
     },
     "execution_count": 223,
     "metadata": {},
     "output_type": "execute_result"
    }
   ],
   "source": [
    "835/(835+3342)"
   ]
  },
  {
   "cell_type": "markdown",
   "metadata": {},
   "source": [
    "Looks like the rough 20% and 80% split has worked out.  Let's also take a look at a couple of records from the training data table."
   ]
  },
  {
   "cell_type": "code",
   "execution_count": 224,
   "metadata": {},
   "outputs": [
    {
     "name": "stdout",
     "output_type": "stream",
     "text": [
      " * postgresql://gpadmin@192.168.115.128:5432/demo\n",
      "5 rows affected.\n"
     ]
    },
    {
     "data": {
      "text/html": [
       "<table>\n",
       "    <tr>\n",
       "        <th>id</th>\n",
       "        <th>diameter</th>\n",
       "        <th>shucked_weight</th>\n",
       "        <th>sex_f</th>\n",
       "        <th>sex_i</th>\n",
       "        <th>mature</th>\n",
       "    </tr>\n",
       "    <tr>\n",
       "        <td>2</td>\n",
       "        <td>0.265</td>\n",
       "        <td>0.0995</td>\n",
       "        <td>0</td>\n",
       "        <td>0</td>\n",
       "        <td>0</td>\n",
       "    </tr>\n",
       "    <tr>\n",
       "        <td>3</td>\n",
       "        <td>0.42</td>\n",
       "        <td>0.2565</td>\n",
       "        <td>1</td>\n",
       "        <td>0</td>\n",
       "        <td>1</td>\n",
       "    </tr>\n",
       "    <tr>\n",
       "        <td>4</td>\n",
       "        <td>0.365</td>\n",
       "        <td>0.2155</td>\n",
       "        <td>0</td>\n",
       "        <td>0</td>\n",
       "        <td>1</td>\n",
       "    </tr>\n",
       "    <tr>\n",
       "        <td>5</td>\n",
       "        <td>0.255</td>\n",
       "        <td>0.0895</td>\n",
       "        <td>0</td>\n",
       "        <td>1</td>\n",
       "        <td>0</td>\n",
       "    </tr>\n",
       "    <tr>\n",
       "        <td>6</td>\n",
       "        <td>0.3</td>\n",
       "        <td>0.141</td>\n",
       "        <td>0</td>\n",
       "        <td>1</td>\n",
       "        <td>0</td>\n",
       "    </tr>\n",
       "</table>"
      ],
      "text/plain": [
       "[(2, 0.265, 0.0995, 0, 0, 0),\n",
       " (3, 0.42, 0.2565, 1, 0, 1),\n",
       " (4, 0.365, 0.2155, 0, 0, 1),\n",
       " (5, 0.255, 0.0895, 0, 1, 0),\n",
       " (6, 0.3, 0.141, 0, 1, 0)]"
      ]
     },
     "execution_count": 224,
     "metadata": {},
     "output_type": "execute_result"
    }
   ],
   "source": [
    "%%sql\n",
    "select * from abalone_onehot_split_train \n",
    "order by id \n",
    "limit 5;"
   ]
  },
  {
   "cell_type": "markdown",
   "metadata": {},
   "source": [
    "We are now ready to train a model to predict whether or not a given abalone is mature, or equivalently, at least ten years in age.\n",
    "\n",
    "We decide to use MADlib's logistic regression module to do this."
   ]
  },
  {
   "cell_type": "code",
   "execution_count": 225,
   "metadata": {},
   "outputs": [
    {
     "name": "stdout",
     "output_type": "stream",
     "text": [
      " * postgresql://gpadmin@192.168.115.128:5432/demo\n",
      "Done.\n",
      "1 rows affected.\n"
     ]
    },
    {
     "data": {
      "text/html": [
       "<table>\n",
       "    <tr>\n",
       "        <th>logregr_train</th>\n",
       "    </tr>\n",
       "    <tr>\n",
       "        <td></td>\n",
       "    </tr>\n",
       "</table>"
      ],
      "text/plain": [
       "[('',)]"
      ]
     },
     "execution_count": 225,
     "metadata": {},
     "output_type": "execute_result"
    }
   ],
   "source": [
    "%%sql \n",
    "drop table if exists madlib_logit_fitted, madlib_logit_fitted_summary;\n",
    "\n",
    "select madlib.logregr_train(\n",
    "'classification_madlib.abalone_onehot_split_train'                -- source table \n",
    ", 'classification_madlib.madlib_logit_fitted'                     -- name of output table\n",
    ", 'mature'                                                        -- response variable\n",
    ", 'array[1, diameter, shucked_weight, sex_f, sex_i]'              -- explanatory variables, including the intercept(1)\n",
    ", NULL                                                            -- grouping columns\n",
    ", 500                                                             -- max number of iterations\n",
    ")\n",
    ";"
   ]
  },
  {
   "cell_type": "markdown",
   "metadata": {},
   "source": [
    "Let's take a look at the results of the logistic regression model."
   ]
  },
  {
   "cell_type": "code",
   "execution_count": 226,
   "metadata": {},
   "outputs": [
    {
     "name": "stdout",
     "output_type": "stream",
     "text": [
      " * postgresql://gpadmin@192.168.115.128:5432/demo\n",
      "Done.\n",
      "5 rows affected.\n",
      "5 rows affected.\n"
     ]
    },
    {
     "data": {
      "text/html": [
       "<table>\n",
       "    <tr>\n",
       "        <th>var_nm</th>\n",
       "        <th>coef</th>\n",
       "        <th>std_err</th>\n",
       "        <th>z_stats</th>\n",
       "        <th>p_values</th>\n",
       "        <th>odds_ratios</th>\n",
       "    </tr>\n",
       "    <tr>\n",
       "        <td>1_intercept</td>\n",
       "        <td>-6.76900625822974</td>\n",
       "        <td>0.427347686922907</td>\n",
       "        <td>-15.8395762171304</td>\n",
       "        <td>1.65935344316121e-56</td>\n",
       "        <td>0.00114883572989055</td>\n",
       "    </tr>\n",
       "    <tr>\n",
       "        <td>diameter</td>\n",
       "        <td>22.660863889844</td>\n",
       "        <td>1.45698551288264</td>\n",
       "        <td>15.5532527190402</td>\n",
       "        <td>1.51226239145872e-54</td>\n",
       "        <td>6942056476.57922</td>\n",
       "    </tr>\n",
       "    <tr>\n",
       "        <td>sex_f</td>\n",
       "        <td>0.0279901077214831</td>\n",
       "        <td>0.129750890438938</td>\n",
       "        <td>0.215721893135335</td>\n",
       "        <td>0.829204534740612</td>\n",
       "        <td>1.02838551129521</td>\n",
       "    </tr>\n",
       "    <tr>\n",
       "        <td>sex_i</td>\n",
       "        <td>-1.22528378996405</td>\n",
       "        <td>0.120196042426598</td>\n",
       "        <td>-10.1940443730692</td>\n",
       "        <td>2.10807489681349e-24</td>\n",
       "        <td>0.293674346664344</td>\n",
       "    </tr>\n",
       "    <tr>\n",
       "        <td>shucked_weight</td>\n",
       "        <td>-3.12751269488223</td>\n",
       "        <td>0.592466882969353</td>\n",
       "        <td>-5.27879749026244</td>\n",
       "        <td>1.30034417952345e-07</td>\n",
       "        <td>0.0438266720999464</td>\n",
       "    </tr>\n",
       "</table>"
      ],
      "text/plain": [
       "[('1_intercept', -6.76900625822974, 0.427347686922907, -15.8395762171304, 1.65935344316121e-56, 0.00114883572989055),\n",
       " ('diameter', 22.660863889844, 1.45698551288264, 15.5532527190402, 1.51226239145872e-54, 6942056476.57922),\n",
       " ('sex_f', 0.0279901077214831, 0.129750890438938, 0.215721893135335, 0.829204534740612, 1.02838551129521),\n",
       " ('sex_i', -1.22528378996405, 0.120196042426598, -10.1940443730692, 2.10807489681349e-24, 0.293674346664344),\n",
       " ('shucked_weight', -3.12751269488223, 0.592466882969353, -5.27879749026244, 1.30034417952345e-07, 0.0438266720999464)]"
      ]
     },
     "execution_count": 226,
     "metadata": {},
     "output_type": "execute_result"
    }
   ],
   "source": [
    "%%sql \n",
    "drop table if exists madlib_logit_fitted_summary;\n",
    "create table madlib_logit_fitted_summary as \n",
    "select unnest(b.var) as var_nm \n",
    ", unnest(b.coef) as coef\n",
    ", unnest(b.std_err) as std_err\n",
    ", unnest(b.z_stats) as z_stats\n",
    ", unnest(b.p_values) as p_values\n",
    ", unnest(b.odds_ratios) as odds_ratios\n",
    "from \n",
    "(select array['1_intercept', 'diameter', 'shucked_weight', 'sex_f', 'sex_i'] as var\n",
    " , a.* \n",
    " from madlib_logit_fitted a\n",
    ") b\n",
    ";\n",
    "\n",
    "select * from madlib_logit_fitted_summary order by 1;"
   ]
  },
  {
   "cell_type": "markdown",
   "metadata": {},
   "source": [
    "## Model Evaluation & Prediciton"
   ]
  },
  {
   "cell_type": "markdown",
   "metadata": {},
   "source": [
    "We evaluate the accuracy of the model that we've trained in the following section.  \n",
    "\n",
    "We start by computed the predicted values based on the trained model on the test data set.  We make use of MADlib's prediction function for logistic regression here."
   ]
  },
  {
   "cell_type": "code",
   "execution_count": 227,
   "metadata": {},
   "outputs": [
    {
     "name": "stdout",
     "output_type": "stream",
     "text": [
      " * postgresql://gpadmin@192.168.115.128:5432/demo\n",
      "Done.\n",
      "835 rows affected.\n"
     ]
    },
    {
     "data": {
      "text/plain": [
       "[]"
      ]
     },
     "execution_count": 227,
     "metadata": {},
     "output_type": "execute_result"
    }
   ],
   "source": [
    "%%sql\n",
    "drop table if exists madlib_logit_predicted_class;\n",
    "create table madlib_logit_predicted_class as (\n",
    "  select\n",
    "    test.id\n",
    "    , test.diameter\n",
    "    , test.shucked_weight\n",
    "    , test.sex_f\n",
    "    , test.sex_i\n",
    "    , madlib.logregr_predict_prob(model.coef, array[1, diameter, shucked_weight, sex_f, sex_i]) as pred_proba\n",
    "    , madlib.logregr_predict(model.coef, array[1, diameter, shucked_weight, sex_f, sex_i])::int as mature_pred \n",
    "    , test.mature\n",
    "  from abalone_onehot_split_test test\n",
    "    , madlib_logit_fitted model\n",
    "  order by test.id\n",
    ")\n",
    ";"
   ]
  },
  {
   "cell_type": "code",
   "execution_count": 228,
   "metadata": {},
   "outputs": [
    {
     "name": "stdout",
     "output_type": "stream",
     "text": [
      " * postgresql://gpadmin@192.168.115.128:5432/demo\n",
      "10 rows affected.\n"
     ]
    },
    {
     "data": {
      "text/html": [
       "<table>\n",
       "    <tr>\n",
       "        <th>id</th>\n",
       "        <th>diameter</th>\n",
       "        <th>shucked_weight</th>\n",
       "        <th>sex_f</th>\n",
       "        <th>sex_i</th>\n",
       "        <th>pred_proba</th>\n",
       "        <th>mature_pred</th>\n",
       "        <th>mature</th>\n",
       "    </tr>\n",
       "    <tr>\n",
       "        <td>1</td>\n",
       "        <td>0.365</td>\n",
       "        <td>0.2245</td>\n",
       "        <td>0</td>\n",
       "        <td>0</td>\n",
       "        <td>0.689992120179034</td>\n",
       "        <td>1</td>\n",
       "        <td>1</td>\n",
       "    </tr>\n",
       "    <tr>\n",
       "        <td>8</td>\n",
       "        <td>0.425</td>\n",
       "        <td>0.294</td>\n",
       "        <td>1</td>\n",
       "        <td>0</td>\n",
       "        <td>0.877650019260448</td>\n",
       "        <td>1</td>\n",
       "        <td>1</td>\n",
       "    </tr>\n",
       "    <tr>\n",
       "        <td>9</td>\n",
       "        <td>0.37</td>\n",
       "        <td>0.2165</td>\n",
       "        <td>0</td>\n",
       "        <td>0</td>\n",
       "        <td>0.718777742822688</td>\n",
       "        <td>1</td>\n",
       "        <td>1</td>\n",
       "    </tr>\n",
       "    <tr>\n",
       "        <td>16</td>\n",
       "        <td>0.4</td>\n",
       "        <td>0.258</td>\n",
       "        <td>0</td>\n",
       "        <td>0</td>\n",
       "        <td>0.815844163269398</td>\n",
       "        <td>1</td>\n",
       "        <td>1</td>\n",
       "    </tr>\n",
       "    <tr>\n",
       "        <td>22</td>\n",
       "        <td>0.275</td>\n",
       "        <td>0.08</td>\n",
       "        <td>0</td>\n",
       "        <td>1</td>\n",
       "        <td>0.117870376512508</td>\n",
       "        <td>0</td>\n",
       "        <td>1</td>\n",
       "    </tr>\n",
       "    <tr>\n",
       "        <td>24</td>\n",
       "        <td>0.415</td>\n",
       "        <td>0.318</td>\n",
       "        <td>1</td>\n",
       "        <td>0</td>\n",
       "        <td>0.841401529932681</td>\n",
       "        <td>1</td>\n",
       "        <td>1</td>\n",
       "    </tr>\n",
       "    <tr>\n",
       "        <td>31</td>\n",
       "        <td>0.47</td>\n",
       "        <td>0.3935</td>\n",
       "        <td>0</td>\n",
       "        <td>0</td>\n",
       "        <td>0.93406788863655</td>\n",
       "        <td>1</td>\n",
       "        <td>1</td>\n",
       "    </tr>\n",
       "    <tr>\n",
       "        <td>32</td>\n",
       "        <td>0.56</td>\n",
       "        <td>0.6055</td>\n",
       "        <td>1</td>\n",
       "        <td>0</td>\n",
       "        <td>0.982965924756674</td>\n",
       "        <td>1</td>\n",
       "        <td>1</td>\n",
       "    </tr>\n",
       "    <tr>\n",
       "        <td>33</td>\n",
       "        <td>0.525</td>\n",
       "        <td>0.5515</td>\n",
       "        <td>0</td>\n",
       "        <td>0</td>\n",
       "        <td>0.967802026506753</td>\n",
       "        <td>1</td>\n",
       "        <td>1</td>\n",
       "    </tr>\n",
       "    <tr>\n",
       "        <td>37</td>\n",
       "        <td>0.475</td>\n",
       "        <td>0.5305</td>\n",
       "        <td>1</td>\n",
       "        <td>0</td>\n",
       "        <td>0.914020862143357</td>\n",
       "        <td>1</td>\n",
       "        <td>1</td>\n",
       "    </tr>\n",
       "</table>"
      ],
      "text/plain": [
       "[(1, 0.365, 0.2245, 0, 0, 0.689992120179034, 1, 1),\n",
       " (8, 0.425, 0.294, 1, 0, 0.877650019260448, 1, 1),\n",
       " (9, 0.37, 0.2165, 0, 0, 0.718777742822688, 1, 1),\n",
       " (16, 0.4, 0.258, 0, 0, 0.815844163269398, 1, 1),\n",
       " (22, 0.275, 0.08, 0, 1, 0.117870376512508, 0, 1),\n",
       " (24, 0.415, 0.318, 1, 0, 0.841401529932681, 1, 1),\n",
       " (31, 0.47, 0.3935, 0, 0, 0.93406788863655, 1, 1),\n",
       " (32, 0.56, 0.6055, 1, 0, 0.982965924756674, 1, 1),\n",
       " (33, 0.525, 0.5515, 0, 0, 0.967802026506753, 1, 1),\n",
       " (37, 0.475, 0.5305, 1, 0, 0.914020862143357, 1, 1)]"
      ]
     },
     "execution_count": 228,
     "metadata": {},
     "output_type": "execute_result"
    }
   ],
   "source": [
    "%%sql\n",
    "select * from madlib_logit_predicted_class order by id limit 10;"
   ]
  },
  {
   "cell_type": "markdown",
   "metadata": {},
   "source": [
    "We made use of two versions of the MADlib predict function for logistic regression.  One version returns the predicted probability and the other version returns the predicted class.  The later is equal to '1' if the predicted probability is greater or equal to 0.5.\n",
    "\n",
    "We will also compute the confusion matrix to sum up and check how the model is doing overall by using MADlib's function here."
   ]
  },
  {
   "cell_type": "code",
   "execution_count": 229,
   "metadata": {},
   "outputs": [
    {
     "name": "stdout",
     "output_type": "stream",
     "text": [
      " * postgresql://gpadmin@192.168.115.128:5432/demo\n",
      "Done.\n",
      "1 rows affected.\n"
     ]
    },
    {
     "data": {
      "text/html": [
       "<table>\n",
       "    <tr>\n",
       "        <th>confusion_matrix</th>\n",
       "    </tr>\n",
       "    <tr>\n",
       "        <td></td>\n",
       "    </tr>\n",
       "</table>"
      ],
      "text/plain": [
       "[('',)]"
      ]
     },
     "execution_count": 229,
     "metadata": {},
     "output_type": "execute_result"
    }
   ],
   "source": [
    "%%sql\n",
    "drop table if exists madlib_logit_conf_mat;\n",
    "\n",
    "select madlib.confusion_matrix\n",
    "('classification_madlib.madlib_logit_predicted_class' -- source table\n",
    " , 'classification_madlib.madlib_logit_conf_mat' -- output table\n",
    " , 'mature_pred'              -- predicted value\n",
    " , 'mature' )                 -- actual value\n",
    ";"
   ]
  },
  {
   "cell_type": "code",
   "execution_count": 230,
   "metadata": {},
   "outputs": [
    {
     "name": "stdout",
     "output_type": "stream",
     "text": [
      " * postgresql://gpadmin@192.168.115.128:5432/demo\n",
      "2 rows affected.\n"
     ]
    },
    {
     "data": {
      "text/html": [
       "<table>\n",
       "    <tr>\n",
       "        <th>actual</th>\n",
       "        <th>predicted_0</th>\n",
       "        <th>predicted_1</th>\n",
       "    </tr>\n",
       "    <tr>\n",
       "        <td>1</td>\n",
       "        <td>37</td>\n",
       "        <td>509</td>\n",
       "    </tr>\n",
       "    <tr>\n",
       "        <td>0</td>\n",
       "        <td>199</td>\n",
       "        <td>90</td>\n",
       "    </tr>\n",
       "</table>"
      ],
      "text/plain": [
       "[(1, Decimal('37'), Decimal('509')), (0, Decimal('199'), Decimal('90'))]"
      ]
     },
     "execution_count": 230,
     "metadata": {},
     "output_type": "execute_result"
    }
   ],
   "source": [
    "%%sql\n",
    "select\n",
    "  class as actual\n",
    "  , confusion_arr[1] as predicted_0\n",
    "  , confusion_arr[2] as predicted_1\n",
    "from madlib_logit_conf_mat;"
   ]
  },
  {
   "cell_type": "markdown",
   "metadata": {},
   "source": [
    "In addition to the confusion matrix, we can make use of the numbers contained in it to compute standard methods of assessing model quality such as precision and recall."
   ]
  },
  {
   "cell_type": "code",
   "execution_count": 231,
   "metadata": {},
   "outputs": [
    {
     "name": "stdout",
     "output_type": "stream",
     "text": [
      " * postgresql://gpadmin@192.168.115.128:5432/demo\n",
      "835 rows affected.\n",
      "Returning data to local variable df_madlib\n"
     ]
    }
   ],
   "source": [
    "%%sql\n",
    "df_madlib << select * from madlib_logit_predicted_class;"
   ]
  },
  {
   "cell_type": "code",
   "execution_count": 232,
   "metadata": {},
   "outputs": [
    {
     "name": "stdout",
     "output_type": "stream",
     "text": [
      "Precision: 0.850\n",
      "Recall   : 0.932\n",
      "F1-Score : 0.889\n",
      "Accuracy : 0.848\n"
     ]
    }
   ],
   "source": [
    "import numpy as np\n",
    "from sklearn.metrics import precision_recall_fscore_support\n",
    "from sklearn.metrics import accuracy_score\n",
    "\n",
    "y_true = df_madlib.DataFrame()['mature']\n",
    "y_pred = df_madlib.DataFrame()['mature_pred']\n",
    "\n",
    "# performance metrics\n",
    "precision, recall, fscore, support = \\\n",
    "    precision_recall_fscore_support(y_true, y_pred)\n",
    "accuracy = accuracy_score(y_true, y_pred)\n",
    "\n",
    "print('Precision: %.3f' %precision[1]); print('Recall   : %.3f' %recall[1])\n",
    "print('F1-Score : %.3f' %fscore[1]); print('Accuracy : %.3f' %accuracy)"
   ]
  },
  {
   "cell_type": "markdown",
   "metadata": {},
   "source": [
    "In general, we see that we have a model that fits fairly well.  \n",
    "\n",
    "As another way to assess model fit, we can compute the area under the ROC curve and also visually plot an ROC curve. \n",
    "\n",
    "We'll begin by simply computing the area under the ROC curve using a MADlib function."
   ]
  },
  {
   "cell_type": "code",
   "execution_count": 233,
   "metadata": {},
   "outputs": [
    {
     "name": "stdout",
     "output_type": "stream",
     "text": [
      " * postgresql://gpadmin@192.168.115.128:5432/demo\n",
      "Done.\n",
      "1 rows affected.\n",
      "1 rows affected.\n"
     ]
    },
    {
     "data": {
      "text/html": [
       "<table>\n",
       "    <tr>\n",
       "        <th>area_under_roc</th>\n",
       "    </tr>\n",
       "    <tr>\n",
       "        <td>0.89063272367770637666937766961988415275610</td>\n",
       "    </tr>\n",
       "</table>"
      ],
      "text/plain": [
       "[(Decimal('0.89063272367770637666937766961988415275610'),)]"
      ]
     },
     "execution_count": 233,
     "metadata": {},
     "output_type": "execute_result"
    }
   ],
   "source": [
    "%%sql\n",
    "drop table if exists madlib_logit_auc;\n",
    "select madlib.area_under_roc(\n",
    "  'classification_madlib.madlib_logit_predicted_class' -- source table\n",
    "  , 'classification_madlib.madlib_logit_auc'           -- output table\n",
    "  , 'pred_proba'                                       -- predicted probability\n",
    "  , 'mature'                                           -- actual value\n",
    ");\n",
    "\n",
    "select * from madlib_logit_auc;"
   ]
  },
  {
   "cell_type": "markdown",
   "metadata": {},
   "source": [
    "Let's now visually plot the ROC curve"
   ]
  },
  {
   "cell_type": "code",
   "execution_count": 234,
   "metadata": {},
   "outputs": [
    {
     "data": {
      "image/png": "[encoded data removed]",
      "text/plain": [
       "<Figure size 576x576 with 1 Axes>"
      ]
     },
     "metadata": {
      "needs_background": "light"
     },
     "output_type": "display_data"
    }
   ],
   "source": [
    "# calculate fpr, tpr, AUC\n",
    "import sklearn.metrics as metrics\n",
    "\n",
    "y = df_madlib.DataFrame()['mature']\n",
    "pred_proba = df_madlib.DataFrame()['pred_proba']\n",
    "fpr, tpr, threshold = metrics.roc_curve(y, pred_proba)\n",
    "AUC = metrics.auc(fpr, tpr)\n",
    "\n",
    "# plotting ROC Curve\n",
    "import matplotlib.pyplot as plt\n",
    "plt.figure(figsize = (8, 8))\n",
    "plt.plot(fpr, tpr, 'b', label = 'AUC = %0.3f' % AUC)\n",
    "plt.title(('ROC Curve of Logistic Regression'), \n",
    "             fontsize=18)\n",
    "plt.legend(loc = 'lower right')\n",
    "plt.plot([0, 1], [0, 1],'r--')\n",
    "plt.xlim([0, 1])\n",
    "plt.ylim([0, 1])\n",
    "plt.ylabel('True Positive Rate', fontsize=14)\n",
    "plt.xlabel('False Positive Rate', fontsize=14)\n",
    "plt.show()"
   ]
  }
 ],
 "metadata": {
  "kernelspec": {
   "display_name": "Python 3",
   "language": "python",
   "name": "python3"
  },
  "language_info": {
   "codemirror_mode": {
    "name": "ipython",
    "version": 3
   },
   "file_extension": ".py",
   "mimetype": "text/x-python",
   "name": "python",
   "nbconvert_exporter": "python",
   "pygments_lexer": "ipython3",
   "version": "3.7.3"
  }
 },
 "nbformat": 4,
 "nbformat_minor": 2
}
